{
 "cells": [
  {
   "cell_type": "code",
   "execution_count": 1,
   "metadata": {},
   "outputs": [],
   "source": [
    "import matplotlib.pyplot as plt\n",
    "import pandas as pd"
   ]
  },
  {
   "cell_type": "code",
   "execution_count": 3,
   "metadata": {},
   "outputs": [
    {
     "data": {
      "text/html": [
       "<div>\n",
       "<style scoped>\n",
       "    .dataframe tbody tr th:only-of-type {\n",
       "        vertical-align: middle;\n",
       "    }\n",
       "\n",
       "    .dataframe tbody tr th {\n",
       "        vertical-align: top;\n",
       "    }\n",
       "\n",
       "    .dataframe thead th {\n",
       "        text-align: right;\n",
       "    }\n",
       "</style>\n",
       "<table border=\"1\" class=\"dataframe\">\n",
       "  <thead>\n",
       "    <tr style=\"text-align: right;\">\n",
       "      <th></th>\n",
       "      <th>Month</th>\n",
       "      <th>U.S. Crude Oil</th>\n",
       "      <th>Alabama</th>\n",
       "      <th>Alaska</th>\n",
       "      <th>Arkansas</th>\n",
       "      <th>Arizona</th>\n",
       "      <th>California</th>\n",
       "      <th>Colorado</th>\n",
       "      <th>Federal Offshore Gulf of Mexico Crude Oil</th>\n",
       "      <th>Federal Offshore Pacific Crude Oil</th>\n",
       "      <th>...</th>\n",
       "      <th>Ohio</th>\n",
       "      <th>Oklahoma</th>\n",
       "      <th>Pennsylvania</th>\n",
       "      <th>South Dakota</th>\n",
       "      <th>Wyoming</th>\n",
       "      <th>West Virginia</th>\n",
       "      <th>Virginia</th>\n",
       "      <th>Utah</th>\n",
       "      <th>Texas</th>\n",
       "      <th>Tennessee</th>\n",
       "    </tr>\n",
       "  </thead>\n",
       "  <tbody>\n",
       "    <tr>\n",
       "      <th>0</th>\n",
       "      <td>2008-06-01</td>\n",
       "      <td>5138</td>\n",
       "      <td>21</td>\n",
       "      <td>655</td>\n",
       "      <td>17</td>\n",
       "      <td>0</td>\n",
       "      <td>583</td>\n",
       "      <td>82</td>\n",
       "      <td>1326</td>\n",
       "      <td>67</td>\n",
       "      <td>...</td>\n",
       "      <td>14</td>\n",
       "      <td>186</td>\n",
       "      <td>8</td>\n",
       "      <td>5</td>\n",
       "      <td>144</td>\n",
       "      <td>6</td>\n",
       "      <td>0</td>\n",
       "      <td>60</td>\n",
       "      <td>1097</td>\n",
       "      <td>1</td>\n",
       "    </tr>\n",
       "    <tr>\n",
       "      <th>1</th>\n",
       "      <td>2008-07-01</td>\n",
       "      <td>5177</td>\n",
       "      <td>21</td>\n",
       "      <td>640</td>\n",
       "      <td>17</td>\n",
       "      <td>0</td>\n",
       "      <td>586</td>\n",
       "      <td>81</td>\n",
       "      <td>1372</td>\n",
       "      <td>61</td>\n",
       "      <td>...</td>\n",
       "      <td>14</td>\n",
       "      <td>184</td>\n",
       "      <td>8</td>\n",
       "      <td>5</td>\n",
       "      <td>145</td>\n",
       "      <td>5</td>\n",
       "      <td>0</td>\n",
       "      <td>61</td>\n",
       "      <td>1111</td>\n",
       "      <td>1</td>\n",
       "    </tr>\n",
       "    <tr>\n",
       "      <th>2</th>\n",
       "      <td>2008-08-01</td>\n",
       "      <td>5003</td>\n",
       "      <td>21</td>\n",
       "      <td>544</td>\n",
       "      <td>17</td>\n",
       "      <td>0</td>\n",
       "      <td>588</td>\n",
       "      <td>82</td>\n",
       "      <td>1272</td>\n",
       "      <td>70</td>\n",
       "      <td>...</td>\n",
       "      <td>14</td>\n",
       "      <td>188</td>\n",
       "      <td>8</td>\n",
       "      <td>5</td>\n",
       "      <td>145</td>\n",
       "      <td>6</td>\n",
       "      <td>0</td>\n",
       "      <td>62</td>\n",
       "      <td>1110</td>\n",
       "      <td>1</td>\n",
       "    </tr>\n",
       "    <tr>\n",
       "      <th>3</th>\n",
       "      <td>2008-09-01</td>\n",
       "      <td>3974</td>\n",
       "      <td>21</td>\n",
       "      <td>681</td>\n",
       "      <td>16</td>\n",
       "      <td>0</td>\n",
       "      <td>587</td>\n",
       "      <td>88</td>\n",
       "      <td>242</td>\n",
       "      <td>67</td>\n",
       "      <td>...</td>\n",
       "      <td>14</td>\n",
       "      <td>186</td>\n",
       "      <td>8</td>\n",
       "      <td>5</td>\n",
       "      <td>144</td>\n",
       "      <td>6</td>\n",
       "      <td>0</td>\n",
       "      <td>63</td>\n",
       "      <td>1055</td>\n",
       "      <td>1</td>\n",
       "    </tr>\n",
       "    <tr>\n",
       "      <th>4</th>\n",
       "      <td>2008-10-01</td>\n",
       "      <td>4738</td>\n",
       "      <td>21</td>\n",
       "      <td>716</td>\n",
       "      <td>17</td>\n",
       "      <td>0</td>\n",
       "      <td>586</td>\n",
       "      <td>86</td>\n",
       "      <td>803</td>\n",
       "      <td>66</td>\n",
       "      <td>...</td>\n",
       "      <td>14</td>\n",
       "      <td>185</td>\n",
       "      <td>8</td>\n",
       "      <td>5</td>\n",
       "      <td>145</td>\n",
       "      <td>6</td>\n",
       "      <td>0</td>\n",
       "      <td>64</td>\n",
       "      <td>1125</td>\n",
       "      <td>1</td>\n",
       "    </tr>\n",
       "  </tbody>\n",
       "</table>\n",
       "<p>5 rows × 36 columns</p>\n",
       "</div>"
      ],
      "text/plain": [
       "        Month  U.S. Crude Oil   Alabama  Alaska  Arkansas  Arizona  \\\n",
       "0  2008-06-01             5138       21     655        17        0   \n",
       "1  2008-07-01             5177       21     640        17        0   \n",
       "2  2008-08-01             5003       21     544        17        0   \n",
       "3  2008-09-01             3974       21     681        16        0   \n",
       "4  2008-10-01             4738       21     716        17        0   \n",
       "\n",
       "   California  Colorado  Federal Offshore Gulf of Mexico Crude Oil  \\\n",
       "0         583        82                                       1326   \n",
       "1         586        81                                       1372   \n",
       "2         588        82                                       1272   \n",
       "3         587        88                                        242   \n",
       "4         586        86                                        803   \n",
       "\n",
       "   Federal Offshore Pacific Crude Oil  ...  Ohio  Oklahoma  Pennsylvania  \\\n",
       "0                                  67  ...    14       186             8   \n",
       "1                                  61  ...    14       184             8   \n",
       "2                                  70  ...    14       188             8   \n",
       "3                                  67  ...    14       186             8   \n",
       "4                                  66  ...    14       185             8   \n",
       "\n",
       "   South Dakota  Wyoming  West Virginia  Virginia  Utah  Texas  Tennessee  \n",
       "0             5      144              6         0    60   1097          1  \n",
       "1             5      145              5         0    61   1111          1  \n",
       "2             5      145              6         0    62   1110          1  \n",
       "3             5      144              6         0    63   1055          1  \n",
       "4             5      145              6         0    64   1125          1  \n",
       "\n",
       "[5 rows x 36 columns]"
      ]
     },
     "execution_count": 3,
     "metadata": {},
     "output_type": "execute_result"
    }
   ],
   "source": [
    "oil_df = pd.read_csv('archive/U.S._crude_oil_production.csv')\n",
    "oil_df.head()"
   ]
  },
  {
   "cell_type": "code",
   "execution_count": 4,
   "metadata": {},
   "outputs": [
    {
     "data": {
      "text/plain": [
       "Index(['Arizona', 'Virginia'], dtype='object')"
      ]
     },
     "execution_count": 4,
     "metadata": {},
     "output_type": "execute_result"
    }
   ],
   "source": [
    "oil_df.columns[oil_df.sum(axis=0)==0]"
   ]
  },
  {
   "cell_type": "code",
   "execution_count": 6,
   "metadata": {},
   "outputs": [],
   "source": [
    "oil_df.drop(['Arizona','Virginia'], inplace=True,axis=1)"
   ]
  },
  {
   "cell_type": "code",
   "execution_count": 8,
   "metadata": {},
   "outputs": [
    {
     "data": {
      "text/plain": [
       "Index(['Month', 'U.S. Crude Oil ', 'Alabama', 'Alaska', 'Arkansas',\n",
       "       'California', 'Colorado', 'Mexico', 'Pacific', 'Florida', 'Idaho',\n",
       "       'Illinois', 'Indiana', 'Kansas', 'Kentucky', 'Louisiana', 'Michigan',\n",
       "       'Mississippi', 'Missouri', 'Nebraska', 'Montana', 'Nevada',\n",
       "       'New Mexico', 'New York', 'North Dakota', 'Ohio', 'Oklahoma',\n",
       "       'Pennsylvania', 'South Dakota', 'Wyoming', 'West Virginia', 'Utah',\n",
       "       'Texas', 'Tennessee'],\n",
       "      dtype='object')"
      ]
     },
     "execution_count": 8,
     "metadata": {},
     "output_type": "execute_result"
    }
   ],
   "source": [
    "oil_df = oil_df.rename(columns={'Federal Offshore Gulf of Mexico Crude Oil':'Mexico',\n",
    "                      'Federal Offshore Pacific Crude Oil' :'Pacific'})\n",
    "oil_df.columns"
   ]
  },
  {
   "cell_type": "code",
   "execution_count": 10,
   "metadata": {},
   "outputs": [
    {
     "data": {
      "text/plain": [
       "0   2008-06-01\n",
       "1   2008-07-01\n",
       "2   2008-08-01\n",
       "3   2008-09-01\n",
       "4   2008-10-01\n",
       "Name: Date, dtype: datetime64[ns]"
      ]
     },
     "execution_count": 10,
     "metadata": {},
     "output_type": "execute_result"
    }
   ],
   "source": [
    "oil_df['Date'] = pd.to_datetime(oil_df['Month'])\n",
    "oil_df['Date'].head()"
   ]
  },
  {
   "cell_type": "code",
   "execution_count": 12,
   "metadata": {},
   "outputs": [
    {
     "data": {
      "text/html": [
       "<div>\n",
       "<style scoped>\n",
       "    .dataframe tbody tr th:only-of-type {\n",
       "        vertical-align: middle;\n",
       "    }\n",
       "\n",
       "    .dataframe tbody tr th {\n",
       "        vertical-align: top;\n",
       "    }\n",
       "\n",
       "    .dataframe thead th {\n",
       "        text-align: right;\n",
       "    }\n",
       "</style>\n",
       "<table border=\"1\" class=\"dataframe\">\n",
       "  <thead>\n",
       "    <tr style=\"text-align: right;\">\n",
       "      <th></th>\n",
       "      <th>Date</th>\n",
       "      <th>Month</th>\n",
       "      <th>Year</th>\n",
       "    </tr>\n",
       "  </thead>\n",
       "  <tbody>\n",
       "    <tr>\n",
       "      <th>0</th>\n",
       "      <td>2008-06-01</td>\n",
       "      <td>6</td>\n",
       "      <td>2008</td>\n",
       "    </tr>\n",
       "    <tr>\n",
       "      <th>1</th>\n",
       "      <td>2008-07-01</td>\n",
       "      <td>7</td>\n",
       "      <td>2008</td>\n",
       "    </tr>\n",
       "    <tr>\n",
       "      <th>2</th>\n",
       "      <td>2008-08-01</td>\n",
       "      <td>8</td>\n",
       "      <td>2008</td>\n",
       "    </tr>\n",
       "    <tr>\n",
       "      <th>3</th>\n",
       "      <td>2008-09-01</td>\n",
       "      <td>9</td>\n",
       "      <td>2008</td>\n",
       "    </tr>\n",
       "    <tr>\n",
       "      <th>4</th>\n",
       "      <td>2008-10-01</td>\n",
       "      <td>10</td>\n",
       "      <td>2008</td>\n",
       "    </tr>\n",
       "  </tbody>\n",
       "</table>\n",
       "</div>"
      ],
      "text/plain": [
       "        Date  Month  Year\n",
       "0 2008-06-01      6  2008\n",
       "1 2008-07-01      7  2008\n",
       "2 2008-08-01      8  2008\n",
       "3 2008-09-01      9  2008\n",
       "4 2008-10-01     10  2008"
      ]
     },
     "execution_count": 12,
     "metadata": {},
     "output_type": "execute_result"
    }
   ],
   "source": [
    "oil_df['Month'] = oil_df.Date.dt.month\n",
    "oil_df['Year'] = oil_df.Date.dt.year\n",
    "oil_df[['Date','Month','Year']].head()"
   ]
  },
  {
   "cell_type": "code",
   "execution_count": 13,
   "metadata": {},
   "outputs": [],
   "source": [
    "oil_df.to_csv('archive/crude_oil_data_processed.csv',index = False)"
   ]
  },
  {
   "cell_type": "code",
   "execution_count": 14,
   "metadata": {},
   "outputs": [
    {
     "data": {
      "text/html": [
       "<div>\n",
       "<style scoped>\n",
       "    .dataframe tbody tr th:only-of-type {\n",
       "        vertical-align: middle;\n",
       "    }\n",
       "\n",
       "    .dataframe tbody tr th {\n",
       "        vertical-align: top;\n",
       "    }\n",
       "\n",
       "    .dataframe thead th {\n",
       "        text-align: right;\n",
       "    }\n",
       "</style>\n",
       "<table border=\"1\" class=\"dataframe\">\n",
       "  <thead>\n",
       "    <tr style=\"text-align: right;\">\n",
       "      <th></th>\n",
       "      <th>Month</th>\n",
       "      <th>U.S. Crude Oil</th>\n",
       "      <th>Alabama</th>\n",
       "      <th>Alaska</th>\n",
       "      <th>Arkansas</th>\n",
       "      <th>California</th>\n",
       "      <th>Colorado</th>\n",
       "      <th>Mexico</th>\n",
       "      <th>Pacific</th>\n",
       "      <th>Florida</th>\n",
       "      <th>...</th>\n",
       "      <th>Oklahoma</th>\n",
       "      <th>Pennsylvania</th>\n",
       "      <th>South Dakota</th>\n",
       "      <th>Wyoming</th>\n",
       "      <th>West Virginia</th>\n",
       "      <th>Utah</th>\n",
       "      <th>Texas</th>\n",
       "      <th>Tennessee</th>\n",
       "      <th>Date</th>\n",
       "      <th>Year</th>\n",
       "    </tr>\n",
       "  </thead>\n",
       "  <tbody>\n",
       "    <tr>\n",
       "      <th>0</th>\n",
       "      <td>6</td>\n",
       "      <td>5138</td>\n",
       "      <td>21</td>\n",
       "      <td>655</td>\n",
       "      <td>17</td>\n",
       "      <td>583</td>\n",
       "      <td>82</td>\n",
       "      <td>1326</td>\n",
       "      <td>67</td>\n",
       "      <td>5</td>\n",
       "      <td>...</td>\n",
       "      <td>186</td>\n",
       "      <td>8</td>\n",
       "      <td>5</td>\n",
       "      <td>144</td>\n",
       "      <td>6</td>\n",
       "      <td>60</td>\n",
       "      <td>1097</td>\n",
       "      <td>1</td>\n",
       "      <td>2008-06-01</td>\n",
       "      <td>2008</td>\n",
       "    </tr>\n",
       "    <tr>\n",
       "      <th>1</th>\n",
       "      <td>7</td>\n",
       "      <td>5177</td>\n",
       "      <td>21</td>\n",
       "      <td>640</td>\n",
       "      <td>17</td>\n",
       "      <td>586</td>\n",
       "      <td>81</td>\n",
       "      <td>1372</td>\n",
       "      <td>61</td>\n",
       "      <td>6</td>\n",
       "      <td>...</td>\n",
       "      <td>184</td>\n",
       "      <td>8</td>\n",
       "      <td>5</td>\n",
       "      <td>145</td>\n",
       "      <td>5</td>\n",
       "      <td>61</td>\n",
       "      <td>1111</td>\n",
       "      <td>1</td>\n",
       "      <td>2008-07-01</td>\n",
       "      <td>2008</td>\n",
       "    </tr>\n",
       "    <tr>\n",
       "      <th>2</th>\n",
       "      <td>8</td>\n",
       "      <td>5003</td>\n",
       "      <td>21</td>\n",
       "      <td>544</td>\n",
       "      <td>17</td>\n",
       "      <td>588</td>\n",
       "      <td>82</td>\n",
       "      <td>1272</td>\n",
       "      <td>70</td>\n",
       "      <td>5</td>\n",
       "      <td>...</td>\n",
       "      <td>188</td>\n",
       "      <td>8</td>\n",
       "      <td>5</td>\n",
       "      <td>145</td>\n",
       "      <td>6</td>\n",
       "      <td>62</td>\n",
       "      <td>1110</td>\n",
       "      <td>1</td>\n",
       "      <td>2008-08-01</td>\n",
       "      <td>2008</td>\n",
       "    </tr>\n",
       "    <tr>\n",
       "      <th>3</th>\n",
       "      <td>9</td>\n",
       "      <td>3974</td>\n",
       "      <td>21</td>\n",
       "      <td>681</td>\n",
       "      <td>16</td>\n",
       "      <td>587</td>\n",
       "      <td>88</td>\n",
       "      <td>242</td>\n",
       "      <td>67</td>\n",
       "      <td>5</td>\n",
       "      <td>...</td>\n",
       "      <td>186</td>\n",
       "      <td>8</td>\n",
       "      <td>5</td>\n",
       "      <td>144</td>\n",
       "      <td>6</td>\n",
       "      <td>63</td>\n",
       "      <td>1055</td>\n",
       "      <td>1</td>\n",
       "      <td>2008-09-01</td>\n",
       "      <td>2008</td>\n",
       "    </tr>\n",
       "    <tr>\n",
       "      <th>4</th>\n",
       "      <td>10</td>\n",
       "      <td>4738</td>\n",
       "      <td>21</td>\n",
       "      <td>716</td>\n",
       "      <td>17</td>\n",
       "      <td>586</td>\n",
       "      <td>86</td>\n",
       "      <td>803</td>\n",
       "      <td>66</td>\n",
       "      <td>6</td>\n",
       "      <td>...</td>\n",
       "      <td>185</td>\n",
       "      <td>8</td>\n",
       "      <td>5</td>\n",
       "      <td>145</td>\n",
       "      <td>6</td>\n",
       "      <td>64</td>\n",
       "      <td>1125</td>\n",
       "      <td>1</td>\n",
       "      <td>2008-10-01</td>\n",
       "      <td>2008</td>\n",
       "    </tr>\n",
       "  </tbody>\n",
       "</table>\n",
       "<p>5 rows × 36 columns</p>\n",
       "</div>"
      ],
      "text/plain": [
       "   Month  U.S. Crude Oil   Alabama  Alaska  Arkansas  California  Colorado  \\\n",
       "0      6             5138       21     655        17         583        82   \n",
       "1      7             5177       21     640        17         586        81   \n",
       "2      8             5003       21     544        17         588        82   \n",
       "3      9             3974       21     681        16         587        88   \n",
       "4     10             4738       21     716        17         586        86   \n",
       "\n",
       "   Mexico  Pacific  Florida  ...  Oklahoma  Pennsylvania  South Dakota  \\\n",
       "0    1326       67        5  ...       186             8             5   \n",
       "1    1372       61        6  ...       184             8             5   \n",
       "2    1272       70        5  ...       188             8             5   \n",
       "3     242       67        5  ...       186             8             5   \n",
       "4     803       66        6  ...       185             8             5   \n",
       "\n",
       "   Wyoming  West Virginia  Utah  Texas  Tennessee        Date  Year  \n",
       "0      144              6    60   1097          1  2008-06-01  2008  \n",
       "1      145              5    61   1111          1  2008-07-01  2008  \n",
       "2      145              6    62   1110          1  2008-08-01  2008  \n",
       "3      144              6    63   1055          1  2008-09-01  2008  \n",
       "4      145              6    64   1125          1  2008-10-01  2008  \n",
       "\n",
       "[5 rows x 36 columns]"
      ]
     },
     "execution_count": 14,
     "metadata": {},
     "output_type": "execute_result"
    }
   ],
   "source": [
    "crude_oil_df = pd.read_csv('archive/crude_oil_data_processed.csv')\n",
    "crude_oil_df.head()"
   ]
  },
  {
   "cell_type": "code",
   "execution_count": 16,
   "metadata": {},
   "outputs": [
    {
     "data": {
      "text/plain": [
       "0   2008-06-01\n",
       "1   2008-07-01\n",
       "2   2008-08-01\n",
       "3   2008-09-01\n",
       "4   2008-10-01\n",
       "Name: Date, dtype: datetime64[ns]"
      ]
     },
     "execution_count": 16,
     "metadata": {},
     "output_type": "execute_result"
    }
   ],
   "source": [
    "crude_oil_df['Date'] = pd.to_datetime(crude_oil_df['Date'])\n",
    "crude_oil_df['Date'].head()"
   ]
  },
  {
   "cell_type": "code",
   "execution_count": 19,
   "metadata": {},
   "outputs": [
    {
     "data": {
      "text/plain": [
       "Text(0.5, 1.0, 'U.S. Crude oil production')"
      ]
     },
     "execution_count": 19,
     "metadata": {},
     "output_type": "execute_result"
    },
    {
     "data": {
      "image/png": "[encoded data removed]",
      "text/plain": [
       "<Figure size 864x576 with 1 Axes>"
      ]
     },
     "metadata": {
      "needs_background": "light"
     },
     "output_type": "display_data"
    }
   ],
   "source": [
    "crude_oil_df.plot(x='Date',y='U.S. Crude Oil ' , figsize=(12,8),color='brown')\n",
    "plt.ylabel('Production')\n",
    "plt.title('U.S. Crude oil production')"
   ]
  },
  {
   "cell_type": "code",
   "execution_count": 22,
   "metadata": {},
   "outputs": [
    {
     "data": {
      "text/plain": [
       "Text(0.5, 1.0, 'U.S. Crude oil production')"
      ]
     },
     "execution_count": 22,
     "metadata": {},
     "output_type": "execute_result"
    },
    {
     "data": {
      "image/png": "[encoded data removed]",
      "text/plain": [
       "<Figure size 864x576 with 1 Axes>"
      ]
     },
     "metadata": {
      "needs_background": "light"
     },
     "output_type": "display_data"
    }
   ],
   "source": [
    "crude_oil_df.boxplot('U.S. Crude Oil ',figsize=(12,8))\n",
    "plt.ylabel('Production')\n",
    "plt.title('U.S. Crude oil production')"
   ]
  },
  {
   "cell_type": "code",
   "execution_count": 23,
   "metadata": {},
   "outputs": [
    {
     "data": {
      "text/plain": [
       "Text(0.5, 1.0, 'Alaska and California oil production')"
      ]
     },
     "execution_count": 23,
     "metadata": {},
     "output_type": "execute_result"
    },
    {
     "data": {
      "image/png": "[encoded data removed]",
      "text/plain": [
       "<Figure size 864x576 with 1 Axes>"
      ]
     },
     "metadata": {
      "needs_background": "light"
     },
     "output_type": "display_data"
    }
   ],
   "source": [
    "crude_oil_df.boxplot(['Alaska','California'],figsize=(12,8))\n",
    "plt.ylabel('Production')\n",
    "plt.title('Alaska and California oil production')"
   ]
  },
  {
   "cell_type": "code",
   "execution_count": 30,
   "metadata": {},
   "outputs": [
    {
     "data": {
      "text/plain": [
       "Text(0.5, 1.0, 'U.S. crude oil production by year')"
      ]
     },
     "execution_count": 30,
     "metadata": {},
     "output_type": "execute_result"
    },
    {
     "data": {
      "image/png": "[encoded data removed]",
      "text/plain": [
       "<Figure size 864x576 with 1 Axes>"
      ]
     },
     "metadata": {
      "needs_background": "light"
     },
     "output_type": "display_data"
    }
   ],
   "source": [
    "crude_oil_df.boxplot(column=['U.S. Crude Oil '],by=['Year'] , figsize=(12,8))\n",
    "plt.ylabel('Producation')\n",
    "plt.title('U.S. crude oil production by year')"
   ]
  },
  {
   "cell_type": "code",
   "execution_count": 32,
   "metadata": {},
   "outputs": [
    {
     "data": {
      "text/html": [
       "<div>\n",
       "<style scoped>\n",
       "    .dataframe tbody tr th:only-of-type {\n",
       "        vertical-align: middle;\n",
       "    }\n",
       "\n",
       "    .dataframe tbody tr th {\n",
       "        vertical-align: top;\n",
       "    }\n",
       "\n",
       "    .dataframe thead th {\n",
       "        text-align: right;\n",
       "    }\n",
       "</style>\n",
       "<table border=\"1\" class=\"dataframe\">\n",
       "  <thead>\n",
       "    <tr style=\"text-align: right;\">\n",
       "      <th></th>\n",
       "      <th>Year</th>\n",
       "      <th>U.S. Crude Oil</th>\n",
       "    </tr>\n",
       "  </thead>\n",
       "  <tbody>\n",
       "    <tr>\n",
       "      <th>0</th>\n",
       "      <td>2008</td>\n",
       "      <td>34211</td>\n",
       "    </tr>\n",
       "    <tr>\n",
       "      <th>1</th>\n",
       "      <td>2009</td>\n",
       "      <td>64180</td>\n",
       "    </tr>\n",
       "    <tr>\n",
       "      <th>2</th>\n",
       "      <td>2010</td>\n",
       "      <td>65741</td>\n",
       "    </tr>\n",
       "    <tr>\n",
       "      <th>3</th>\n",
       "      <td>2011</td>\n",
       "      <td>67829</td>\n",
       "    </tr>\n",
       "    <tr>\n",
       "      <th>4</th>\n",
       "      <td>2012</td>\n",
       "      <td>78007</td>\n",
       "    </tr>\n",
       "    <tr>\n",
       "      <th>5</th>\n",
       "      <td>2013</td>\n",
       "      <td>89585</td>\n",
       "    </tr>\n",
       "    <tr>\n",
       "      <th>6</th>\n",
       "      <td>2014</td>\n",
       "      <td>105064</td>\n",
       "    </tr>\n",
       "    <tr>\n",
       "      <th>7</th>\n",
       "      <td>2015</td>\n",
       "      <td>113179</td>\n",
       "    </tr>\n",
       "    <tr>\n",
       "      <th>8</th>\n",
       "      <td>2016</td>\n",
       "      <td>105970</td>\n",
       "    </tr>\n",
       "    <tr>\n",
       "      <th>9</th>\n",
       "      <td>2017</td>\n",
       "      <td>112205</td>\n",
       "    </tr>\n",
       "    <tr>\n",
       "      <th>10</th>\n",
       "      <td>2018</td>\n",
       "      <td>62296</td>\n",
       "    </tr>\n",
       "  </tbody>\n",
       "</table>\n",
       "</div>"
      ],
      "text/plain": [
       "    Year  U.S. Crude Oil \n",
       "0   2008            34211\n",
       "1   2009            64180\n",
       "2   2010            65741\n",
       "3   2011            67829\n",
       "4   2012            78007\n",
       "5   2013            89585\n",
       "6   2014           105064\n",
       "7   2015           113179\n",
       "8   2016           105970\n",
       "9   2017           112205\n",
       "10  2018            62296"
      ]
     },
     "execution_count": 32,
     "metadata": {},
     "output_type": "execute_result"
    }
   ],
   "source": [
    "year_data = crude_oil_df.groupby('Year',as_index=False).sum()\n",
    "year_data[['Year','U.S. Crude Oil ']]"
   ]
  },
  {
   "cell_type": "code",
   "execution_count": 36,
   "metadata": {},
   "outputs": [
    {
     "data": {
      "text/plain": [
       "<matplotlib.axes._subplots.AxesSubplot at 0x7fa5cf472350>"
      ]
     },
     "execution_count": 36,
     "metadata": {},
     "output_type": "execute_result"
    },
    {
     "data": {
      "image/png": "[encoded data removed]",
      "text/plain": [
       "<Figure size 864x576 with 1 Axes>"
      ]
     },
     "metadata": {
      "needs_background": "light"
     },
     "output_type": "display_data"
    }
   ],
   "source": [
    "color = ['C0','C1','C2','C3','C4','C5','C6','C7','C8','C9']\n",
    "year_data.plot.bar(x='Year',y='U.S. Crude Oil ', color = color ,legend = False,figsize=(12,8))"
   ]
  },
  {
   "cell_type": "code",
   "execution_count": 44,
   "metadata": {},
   "outputs": [
    {
     "data": {
      "text/plain": [
       "Alabama            22.958678\n",
       "Alaska            540.404959\n",
       "Arkansas           16.462810\n",
       "California        536.388430\n",
       "Colorado          212.115702\n",
       "Mexico           1444.264463\n",
       "Pacific            43.115702\n",
       "Florida             5.190083\n",
       "Idaho               0.066116\n",
       "Illinois           25.008264\n",
       "Indiana             5.619835\n",
       "Kansas            114.520661\n",
       "Kentucky            7.041322\n",
       "Louisiana         177.404959\n",
       "Michigan           18.016529\n",
       "Mississippi        62.355372\n",
       "Missouri            0.223140\n",
       "Nebraska            6.966942\n",
       "Montana            71.537190\n",
       "Nevada              1.000000\n",
       "New Mexico        305.495868\n",
       "New York            1.000000\n",
       "North Dakota      746.380165\n",
       "Ohio               33.322314\n",
       "Oklahoma          321.611570\n",
       "Pennsylvania       13.876033\n",
       "South Dakota        4.504132\n",
       "Wyoming           180.429752\n",
       "West Virginia      16.471074\n",
       "Utah               85.148760\n",
       "Texas            2403.826446\n",
       "dtype: float64"
      ]
     },
     "execution_count": 44,
     "metadata": {},
     "output_type": "execute_result"
    }
   ],
   "source": [
    "mean_crude_data = crude_oil_df.mean()[2:-2]\n",
    "mean_crude_data"
   ]
  },
  {
   "cell_type": "code",
   "execution_count": 45,
   "metadata": {},
   "outputs": [
    {
     "data": {
      "text/plain": [
       "Texas            2403.826446\n",
       "Mexico           1444.264463\n",
       "North Dakota      746.380165\n",
       "Alaska            540.404959\n",
       "California        536.388430\n",
       "Oklahoma          321.611570\n",
       "New Mexico        305.495868\n",
       "Colorado          212.115702\n",
       "Wyoming           180.429752\n",
       "Louisiana         177.404959\n",
       "Kansas            114.520661\n",
       "Utah               85.148760\n",
       "Montana            71.537190\n",
       "Mississippi        62.355372\n",
       "Pacific            43.115702\n",
       "Ohio               33.322314\n",
       "Illinois           25.008264\n",
       "Alabama            22.958678\n",
       "Michigan           18.016529\n",
       "West Virginia      16.471074\n",
       "Arkansas           16.462810\n",
       "Pennsylvania       13.876033\n",
       "Kentucky            7.041322\n",
       "Nebraska            6.966942\n",
       "Indiana             5.619835\n",
       "Florida             5.190083\n",
       "South Dakota        4.504132\n",
       "Nevada              1.000000\n",
       "New York            1.000000\n",
       "Missouri            0.223140\n",
       "Idaho               0.066116\n",
       "dtype: float64"
      ]
     },
     "execution_count": 45,
     "metadata": {},
     "output_type": "execute_result"
    }
   ],
   "source": [
    "mean_crude_data = mean_crude_data.sort_values(ascending=False)\n",
    "mean_crude_data"
   ]
  },
  {
   "cell_type": "code",
   "execution_count": 48,
   "metadata": {},
   "outputs": [
    {
     "data": {
      "text/html": [
       "<div>\n",
       "<style scoped>\n",
       "    .dataframe tbody tr th:only-of-type {\n",
       "        vertical-align: middle;\n",
       "    }\n",
       "\n",
       "    .dataframe tbody tr th {\n",
       "        vertical-align: top;\n",
       "    }\n",
       "\n",
       "    .dataframe thead th {\n",
       "        text-align: right;\n",
       "    }\n",
       "</style>\n",
       "<table border=\"1\" class=\"dataframe\">\n",
       "  <thead>\n",
       "    <tr style=\"text-align: right;\">\n",
       "      <th></th>\n",
       "      <th>State</th>\n",
       "      <th>Production</th>\n",
       "    </tr>\n",
       "  </thead>\n",
       "  <tbody>\n",
       "    <tr>\n",
       "      <th>0</th>\n",
       "      <td>Texas</td>\n",
       "      <td>2403.826446</td>\n",
       "    </tr>\n",
       "    <tr>\n",
       "      <th>1</th>\n",
       "      <td>Mexico</td>\n",
       "      <td>1444.264463</td>\n",
       "    </tr>\n",
       "    <tr>\n",
       "      <th>2</th>\n",
       "      <td>North Dakota</td>\n",
       "      <td>746.380165</td>\n",
       "    </tr>\n",
       "    <tr>\n",
       "      <th>3</th>\n",
       "      <td>Alaska</td>\n",
       "      <td>540.404959</td>\n",
       "    </tr>\n",
       "    <tr>\n",
       "      <th>4</th>\n",
       "      <td>California</td>\n",
       "      <td>536.388430</td>\n",
       "    </tr>\n",
       "    <tr>\n",
       "      <th>5</th>\n",
       "      <td>Oklahoma</td>\n",
       "      <td>321.611570</td>\n",
       "    </tr>\n",
       "    <tr>\n",
       "      <th>6</th>\n",
       "      <td>New Mexico</td>\n",
       "      <td>305.495868</td>\n",
       "    </tr>\n",
       "    <tr>\n",
       "      <th>7</th>\n",
       "      <td>Colorado</td>\n",
       "      <td>212.115702</td>\n",
       "    </tr>\n",
       "    <tr>\n",
       "      <th>8</th>\n",
       "      <td>Wyoming</td>\n",
       "      <td>180.429752</td>\n",
       "    </tr>\n",
       "    <tr>\n",
       "      <th>9</th>\n",
       "      <td>Louisiana</td>\n",
       "      <td>177.404959</td>\n",
       "    </tr>\n",
       "    <tr>\n",
       "      <th>10</th>\n",
       "      <td>Kansas</td>\n",
       "      <td>114.520661</td>\n",
       "    </tr>\n",
       "    <tr>\n",
       "      <th>11</th>\n",
       "      <td>Utah</td>\n",
       "      <td>85.148760</td>\n",
       "    </tr>\n",
       "    <tr>\n",
       "      <th>12</th>\n",
       "      <td>Montana</td>\n",
       "      <td>71.537190</td>\n",
       "    </tr>\n",
       "    <tr>\n",
       "      <th>13</th>\n",
       "      <td>Mississippi</td>\n",
       "      <td>62.355372</td>\n",
       "    </tr>\n",
       "    <tr>\n",
       "      <th>14</th>\n",
       "      <td>Pacific</td>\n",
       "      <td>43.115702</td>\n",
       "    </tr>\n",
       "    <tr>\n",
       "      <th>15</th>\n",
       "      <td>Ohio</td>\n",
       "      <td>33.322314</td>\n",
       "    </tr>\n",
       "    <tr>\n",
       "      <th>16</th>\n",
       "      <td>Illinois</td>\n",
       "      <td>25.008264</td>\n",
       "    </tr>\n",
       "    <tr>\n",
       "      <th>17</th>\n",
       "      <td>Alabama</td>\n",
       "      <td>22.958678</td>\n",
       "    </tr>\n",
       "    <tr>\n",
       "      <th>18</th>\n",
       "      <td>Michigan</td>\n",
       "      <td>18.016529</td>\n",
       "    </tr>\n",
       "    <tr>\n",
       "      <th>19</th>\n",
       "      <td>West Virginia</td>\n",
       "      <td>16.471074</td>\n",
       "    </tr>\n",
       "    <tr>\n",
       "      <th>20</th>\n",
       "      <td>Arkansas</td>\n",
       "      <td>16.462810</td>\n",
       "    </tr>\n",
       "    <tr>\n",
       "      <th>21</th>\n",
       "      <td>Pennsylvania</td>\n",
       "      <td>13.876033</td>\n",
       "    </tr>\n",
       "    <tr>\n",
       "      <th>22</th>\n",
       "      <td>Kentucky</td>\n",
       "      <td>7.041322</td>\n",
       "    </tr>\n",
       "    <tr>\n",
       "      <th>23</th>\n",
       "      <td>Nebraska</td>\n",
       "      <td>6.966942</td>\n",
       "    </tr>\n",
       "    <tr>\n",
       "      <th>24</th>\n",
       "      <td>Indiana</td>\n",
       "      <td>5.619835</td>\n",
       "    </tr>\n",
       "    <tr>\n",
       "      <th>25</th>\n",
       "      <td>Florida</td>\n",
       "      <td>5.190083</td>\n",
       "    </tr>\n",
       "    <tr>\n",
       "      <th>26</th>\n",
       "      <td>South Dakota</td>\n",
       "      <td>4.504132</td>\n",
       "    </tr>\n",
       "    <tr>\n",
       "      <th>27</th>\n",
       "      <td>Nevada</td>\n",
       "      <td>1.000000</td>\n",
       "    </tr>\n",
       "    <tr>\n",
       "      <th>28</th>\n",
       "      <td>New York</td>\n",
       "      <td>1.000000</td>\n",
       "    </tr>\n",
       "    <tr>\n",
       "      <th>29</th>\n",
       "      <td>Missouri</td>\n",
       "      <td>0.223140</td>\n",
       "    </tr>\n",
       "    <tr>\n",
       "      <th>30</th>\n",
       "      <td>Idaho</td>\n",
       "      <td>0.066116</td>\n",
       "    </tr>\n",
       "  </tbody>\n",
       "</table>\n",
       "</div>"
      ],
      "text/plain": [
       "            State   Production\n",
       "0           Texas  2403.826446\n",
       "1          Mexico  1444.264463\n",
       "2    North Dakota   746.380165\n",
       "3          Alaska   540.404959\n",
       "4      California   536.388430\n",
       "5        Oklahoma   321.611570\n",
       "6      New Mexico   305.495868\n",
       "7        Colorado   212.115702\n",
       "8         Wyoming   180.429752\n",
       "9       Louisiana   177.404959\n",
       "10         Kansas   114.520661\n",
       "11           Utah    85.148760\n",
       "12        Montana    71.537190\n",
       "13    Mississippi    62.355372\n",
       "14        Pacific    43.115702\n",
       "15           Ohio    33.322314\n",
       "16       Illinois    25.008264\n",
       "17        Alabama    22.958678\n",
       "18       Michigan    18.016529\n",
       "19  West Virginia    16.471074\n",
       "20       Arkansas    16.462810\n",
       "21   Pennsylvania    13.876033\n",
       "22       Kentucky     7.041322\n",
       "23       Nebraska     6.966942\n",
       "24        Indiana     5.619835\n",
       "25        Florida     5.190083\n",
       "26   South Dakota     4.504132\n",
       "27         Nevada     1.000000\n",
       "28       New York     1.000000\n",
       "29       Missouri     0.223140\n",
       "30          Idaho     0.066116"
      ]
     },
     "execution_count": 48,
     "metadata": {},
     "output_type": "execute_result"
    }
   ],
   "source": [
    "mean_crude_df = pd.DataFrame(mean_crude_data).reset_index()\n",
    "mean_crude_df.columns = ['State','Production']\n",
    "mean_crude_df"
   ]
  },
  {
   "cell_type": "code",
   "execution_count": 51,
   "metadata": {},
   "outputs": [
    {
     "data": {
      "image/png": "[encoded data removed]",
      "text/plain": [
       "<Figure size 864x576 with 1 Axes>"
      ]
     },
     "metadata": {
      "needs_background": "light"
     },
     "output_type": "display_data"
    }
   ],
   "source": [
    "plt.figure(figsize=(12,8))\n",
    "plt.bar(mean_crude_df['State'],mean_crude_df['Production'])\n",
    "\n",
    "plt.title('U.S oil mean-production from june 2008 to june 2018')\n",
    "plt.xticks(rotation=90)\n",
    "plt.ylabel('Production')\n",
    "plt.xlabel('States')\n",
    "plt.show()"
   ]
  },
  {
   "cell_type": "code",
   "execution_count": 53,
   "metadata": {},
   "outputs": [
    {
     "data": {
      "text/plain": [
       "Text(0.5, 1.0, 'Mean oil production ')"
      ]
     },
     "execution_count": 53,
     "metadata": {},
     "output_type": "execute_result"
    },
    {
     "data": {
      "image/png": "[encoded data removed]",
      "text/plain": [
       "<Figure size 864x576 with 1 Axes>"
      ]
     },
     "metadata": {
      "needs_background": "light"
     },
     "output_type": "display_data"
    }
   ],
   "source": [
    "mean_crude_df.plot.bar(x='State',y='Production',figsize=(12,8))\n",
    "plt.ylabel('Production')\n",
    "plt.title('Mean oil production ')"
   ]
  },
  {
   "cell_type": "code",
   "execution_count": 56,
   "metadata": {},
   "outputs": [
    {
     "data": {
      "text/plain": [
       "Text(0.5, 1.0, 'U.S Oil production june 2008 to june 2018')"
      ]
     },
     "execution_count": 56,
     "metadata": {},
     "output_type": "execute_result"
    },
    {
     "data": {
      "image/png": "[encoded data removed]",
      "text/plain": [
       "<Figure size 864x576 with 1 Axes>"
      ]
     },
     "metadata": {
      "needs_background": "light"
     },
     "output_type": "display_data"
    }
   ],
   "source": [
    "mean_crude_df['Production'].plot.kde(figsize=(12,8))\n",
    "plt.xlabel('Production')\n",
    "plt.title('U.S Oil production june 2008 to june 2018')"
   ]
  },
  {
   "cell_type": "code",
   "execution_count": 59,
   "metadata": {},
   "outputs": [
    {
     "data": {
      "text/plain": [
       "Text(0.5, 0, 'Texas Production')"
      ]
     },
     "execution_count": 59,
     "metadata": {},
     "output_type": "execute_result"
    },
    {
     "data": {
      "image/png": "[encoded data removed]",
      "text/plain": [
       "<Figure size 864x576 with 1 Axes>"
      ]
     },
     "metadata": {
      "needs_background": "light"
     },
     "output_type": "display_data"
    }
   ],
   "source": [
    "crude_oil_df.plot.scatter(x='Texas',y='U.S. Crude Oil ',color = 'g',figsize=(12,8))\n",
    "plt.ylabel('Us Production')\n",
    "plt.xlabel('Texas Production')"
   ]
  },
  {
   "cell_type": "code",
   "execution_count": 60,
   "metadata": {},
   "outputs": [
    {
     "data": {
      "text/plain": [
       "Text(0, 0.5, 'U.S production')"
      ]
     },
     "execution_count": 60,
     "metadata": {},
     "output_type": "execute_result"
    },
    {
     "data": {
      "image/png": "[encoded data removed]",
      "text/plain": [
       "<Figure size 864x576 with 1 Axes>"
      ]
     },
     "metadata": {
      "needs_background": "light"
     },
     "output_type": "display_data"
    }
   ],
   "source": [
    "plt.figure(figsize=(12,8))\n",
    "plt.scatter(x=crude_oil_df['California'],y=crude_oil_df['U.S. Crude Oil '],color='y')\n",
    "\n",
    "plt.xlabel('California Production')\n",
    "plt.ylabel('U.S production')"
   ]
  },
  {
   "cell_type": "code",
   "execution_count": 61,
   "metadata": {},
   "outputs": [
    {
     "data": {
      "text/plain": [
       "Text(0, 0.5, 'U.S Production')"
      ]
     },
     "execution_count": 61,
     "metadata": {},
     "output_type": "execute_result"
    },
    {
     "data": {
      "image/png": "[encoded data removed]",
      "text/plain": [
       "<Figure size 864x576 with 1 Axes>"
      ]
     },
     "metadata": {
      "needs_background": "light"
     },
     "output_type": "display_data"
    }
   ],
   "source": [
    "crude_oil_df.plot.scatter(x='Michigan',y='U.S. Crude Oil ',figsize=(12,8),color='g')\n",
    "plt.xlabel('Michigan Production')\n",
    "plt.ylabel('U.S Production')"
   ]
  },
  {
   "cell_type": "code",
   "execution_count": null,
   "metadata": {},
   "outputs": [],
   "source": []
  }
 ],
 "metadata": {
  "kernelspec": {
   "display_name": "Python 3",
   "language": "python",
   "name": "python3"
  },
  "language_info": {
   "codemirror_mode": {
    "name": "ipython",
    "version": 3
   },
   "file_extension": ".py",
   "mimetype": "text/x-python",
   "name": "python",
   "nbconvert_exporter": "python",
   "pygments_lexer": "ipython3",
   "version": "3.7.6"
  }
 },
 "nbformat": 4,
 "nbformat_minor": 4
}
