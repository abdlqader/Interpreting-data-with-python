{
 "cells": [
  {
   "cell_type": "code",
   "execution_count": 1,
   "metadata": {},
   "outputs": [],
   "source": [
    "import pandas as pd\n",
    "import numpy as np"
   ]
  },
  {
   "cell_type": "code",
   "execution_count": 2,
   "metadata": {},
   "outputs": [
    {
     "data": {
      "text/html": [
       "<div>\n",
       "<style scoped>\n",
       "    .dataframe tbody tr th:only-of-type {\n",
       "        vertical-align: middle;\n",
       "    }\n",
       "\n",
       "    .dataframe tbody tr th {\n",
       "        vertical-align: top;\n",
       "    }\n",
       "\n",
       "    .dataframe thead th {\n",
       "        text-align: right;\n",
       "    }\n",
       "</style>\n",
       "<table border=\"1\" class=\"dataframe\">\n",
       "  <thead>\n",
       "    <tr style=\"text-align: right;\">\n",
       "      <th></th>\n",
       "      <th>meanfreq</th>\n",
       "      <th>sd</th>\n",
       "      <th>median</th>\n",
       "      <th>Q25</th>\n",
       "      <th>Q75</th>\n",
       "      <th>IQR</th>\n",
       "      <th>skew</th>\n",
       "      <th>kurt</th>\n",
       "      <th>sp.ent</th>\n",
       "      <th>sfm</th>\n",
       "      <th>...</th>\n",
       "      <th>centroid</th>\n",
       "      <th>meanfun</th>\n",
       "      <th>minfun</th>\n",
       "      <th>maxfun</th>\n",
       "      <th>meandom</th>\n",
       "      <th>mindom</th>\n",
       "      <th>maxdom</th>\n",
       "      <th>dfrange</th>\n",
       "      <th>modindx</th>\n",
       "      <th>label</th>\n",
       "    </tr>\n",
       "  </thead>\n",
       "  <tbody>\n",
       "    <tr>\n",
       "      <th>0</th>\n",
       "      <td>0.059781</td>\n",
       "      <td>0.064241</td>\n",
       "      <td>0.032027</td>\n",
       "      <td>0.015071</td>\n",
       "      <td>0.090193</td>\n",
       "      <td>0.075122</td>\n",
       "      <td>12.863462</td>\n",
       "      <td>274.402906</td>\n",
       "      <td>0.893369</td>\n",
       "      <td>0.491918</td>\n",
       "      <td>...</td>\n",
       "      <td>0.059781</td>\n",
       "      <td>0.084279</td>\n",
       "      <td>0.015702</td>\n",
       "      <td>0.275862</td>\n",
       "      <td>0.007812</td>\n",
       "      <td>0.007812</td>\n",
       "      <td>0.007812</td>\n",
       "      <td>0.000000</td>\n",
       "      <td>0.000000</td>\n",
       "      <td>male</td>\n",
       "    </tr>\n",
       "    <tr>\n",
       "      <th>1</th>\n",
       "      <td>0.066009</td>\n",
       "      <td>0.067310</td>\n",
       "      <td>0.040229</td>\n",
       "      <td>0.019414</td>\n",
       "      <td>0.092666</td>\n",
       "      <td>0.073252</td>\n",
       "      <td>22.423285</td>\n",
       "      <td>634.613855</td>\n",
       "      <td>0.892193</td>\n",
       "      <td>0.513724</td>\n",
       "      <td>...</td>\n",
       "      <td>0.066009</td>\n",
       "      <td>0.107937</td>\n",
       "      <td>0.015826</td>\n",
       "      <td>0.250000</td>\n",
       "      <td>0.009014</td>\n",
       "      <td>0.007812</td>\n",
       "      <td>0.054688</td>\n",
       "      <td>0.046875</td>\n",
       "      <td>0.052632</td>\n",
       "      <td>male</td>\n",
       "    </tr>\n",
       "    <tr>\n",
       "      <th>2</th>\n",
       "      <td>0.077316</td>\n",
       "      <td>0.083829</td>\n",
       "      <td>0.036718</td>\n",
       "      <td>0.008701</td>\n",
       "      <td>0.131908</td>\n",
       "      <td>0.123207</td>\n",
       "      <td>30.757155</td>\n",
       "      <td>1024.927705</td>\n",
       "      <td>0.846389</td>\n",
       "      <td>0.478905</td>\n",
       "      <td>...</td>\n",
       "      <td>0.077316</td>\n",
       "      <td>0.098706</td>\n",
       "      <td>0.015656</td>\n",
       "      <td>0.271186</td>\n",
       "      <td>0.007990</td>\n",
       "      <td>0.007812</td>\n",
       "      <td>0.015625</td>\n",
       "      <td>0.007812</td>\n",
       "      <td>0.046512</td>\n",
       "      <td>male</td>\n",
       "    </tr>\n",
       "    <tr>\n",
       "      <th>3</th>\n",
       "      <td>0.151228</td>\n",
       "      <td>0.072111</td>\n",
       "      <td>0.158011</td>\n",
       "      <td>0.096582</td>\n",
       "      <td>0.207955</td>\n",
       "      <td>0.111374</td>\n",
       "      <td>1.232831</td>\n",
       "      <td>4.177296</td>\n",
       "      <td>0.963322</td>\n",
       "      <td>0.727232</td>\n",
       "      <td>...</td>\n",
       "      <td>0.151228</td>\n",
       "      <td>0.088965</td>\n",
       "      <td>0.017798</td>\n",
       "      <td>0.250000</td>\n",
       "      <td>0.201497</td>\n",
       "      <td>0.007812</td>\n",
       "      <td>0.562500</td>\n",
       "      <td>0.554688</td>\n",
       "      <td>0.247119</td>\n",
       "      <td>male</td>\n",
       "    </tr>\n",
       "    <tr>\n",
       "      <th>4</th>\n",
       "      <td>0.135120</td>\n",
       "      <td>0.079146</td>\n",
       "      <td>0.124656</td>\n",
       "      <td>0.078720</td>\n",
       "      <td>0.206045</td>\n",
       "      <td>0.127325</td>\n",
       "      <td>1.101174</td>\n",
       "      <td>4.333713</td>\n",
       "      <td>0.971955</td>\n",
       "      <td>0.783568</td>\n",
       "      <td>...</td>\n",
       "      <td>0.135120</td>\n",
       "      <td>0.106398</td>\n",
       "      <td>0.016931</td>\n",
       "      <td>0.266667</td>\n",
       "      <td>0.712812</td>\n",
       "      <td>0.007812</td>\n",
       "      <td>5.484375</td>\n",
       "      <td>5.476562</td>\n",
       "      <td>0.208274</td>\n",
       "      <td>male</td>\n",
       "    </tr>\n",
       "  </tbody>\n",
       "</table>\n",
       "<p>5 rows × 21 columns</p>\n",
       "</div>"
      ],
      "text/plain": [
       "   meanfreq        sd    median       Q25       Q75       IQR       skew  \\\n",
       "0  0.059781  0.064241  0.032027  0.015071  0.090193  0.075122  12.863462   \n",
       "1  0.066009  0.067310  0.040229  0.019414  0.092666  0.073252  22.423285   \n",
       "2  0.077316  0.083829  0.036718  0.008701  0.131908  0.123207  30.757155   \n",
       "3  0.151228  0.072111  0.158011  0.096582  0.207955  0.111374   1.232831   \n",
       "4  0.135120  0.079146  0.124656  0.078720  0.206045  0.127325   1.101174   \n",
       "\n",
       "          kurt    sp.ent       sfm  ...  centroid   meanfun    minfun  \\\n",
       "0   274.402906  0.893369  0.491918  ...  0.059781  0.084279  0.015702   \n",
       "1   634.613855  0.892193  0.513724  ...  0.066009  0.107937  0.015826   \n",
       "2  1024.927705  0.846389  0.478905  ...  0.077316  0.098706  0.015656   \n",
       "3     4.177296  0.963322  0.727232  ...  0.151228  0.088965  0.017798   \n",
       "4     4.333713  0.971955  0.783568  ...  0.135120  0.106398  0.016931   \n",
       "\n",
       "     maxfun   meandom    mindom    maxdom   dfrange   modindx  label  \n",
       "0  0.275862  0.007812  0.007812  0.007812  0.000000  0.000000   male  \n",
       "1  0.250000  0.009014  0.007812  0.054688  0.046875  0.052632   male  \n",
       "2  0.271186  0.007990  0.007812  0.015625  0.007812  0.046512   male  \n",
       "3  0.250000  0.201497  0.007812  0.562500  0.554688  0.247119   male  \n",
       "4  0.266667  0.712812  0.007812  5.484375  5.476562  0.208274   male  \n",
       "\n",
       "[5 rows x 21 columns]"
      ]
     },
     "execution_count": 2,
     "metadata": {},
     "output_type": "execute_result"
    }
   ],
   "source": [
    "data = pd.read_csv('archive/gender_voice_dataset.csv')\n",
    "data.head()"
   ]
  },
  {
   "cell_type": "code",
   "execution_count": 3,
   "metadata": {},
   "outputs": [
    {
     "data": {
      "text/plain": [
       "(3168, 21)"
      ]
     },
     "execution_count": 3,
     "metadata": {},
     "output_type": "execute_result"
    }
   ],
   "source": [
    "data.shape"
   ]
  },
  {
   "cell_type": "code",
   "execution_count": 4,
   "metadata": {},
   "outputs": [
    {
     "data": {
      "text/html": [
       "<div>\n",
       "<style scoped>\n",
       "    .dataframe tbody tr th:only-of-type {\n",
       "        vertical-align: middle;\n",
       "    }\n",
       "\n",
       "    .dataframe tbody tr th {\n",
       "        vertical-align: top;\n",
       "    }\n",
       "\n",
       "    .dataframe thead th {\n",
       "        text-align: right;\n",
       "    }\n",
       "</style>\n",
       "<table border=\"1\" class=\"dataframe\">\n",
       "  <thead>\n",
       "    <tr style=\"text-align: right;\">\n",
       "      <th></th>\n",
       "      <th>count</th>\n",
       "      <th>mean</th>\n",
       "      <th>std</th>\n",
       "      <th>min</th>\n",
       "      <th>25%</th>\n",
       "      <th>50%</th>\n",
       "      <th>75%</th>\n",
       "      <th>max</th>\n",
       "    </tr>\n",
       "  </thead>\n",
       "  <tbody>\n",
       "    <tr>\n",
       "      <th>meanfreq</th>\n",
       "      <td>3168.0</td>\n",
       "      <td>0.180907</td>\n",
       "      <td>0.029918</td>\n",
       "      <td>0.039363</td>\n",
       "      <td>0.163662</td>\n",
       "      <td>0.184838</td>\n",
       "      <td>0.199146</td>\n",
       "      <td>0.251124</td>\n",
       "    </tr>\n",
       "    <tr>\n",
       "      <th>sd</th>\n",
       "      <td>3168.0</td>\n",
       "      <td>0.057126</td>\n",
       "      <td>0.016652</td>\n",
       "      <td>0.018363</td>\n",
       "      <td>0.041954</td>\n",
       "      <td>0.059155</td>\n",
       "      <td>0.067020</td>\n",
       "      <td>0.115273</td>\n",
       "    </tr>\n",
       "    <tr>\n",
       "      <th>median</th>\n",
       "      <td>3168.0</td>\n",
       "      <td>0.185621</td>\n",
       "      <td>0.036360</td>\n",
       "      <td>0.010975</td>\n",
       "      <td>0.169593</td>\n",
       "      <td>0.190032</td>\n",
       "      <td>0.210618</td>\n",
       "      <td>0.261224</td>\n",
       "    </tr>\n",
       "    <tr>\n",
       "      <th>Q25</th>\n",
       "      <td>3168.0</td>\n",
       "      <td>0.140456</td>\n",
       "      <td>0.048680</td>\n",
       "      <td>0.000229</td>\n",
       "      <td>0.111087</td>\n",
       "      <td>0.140286</td>\n",
       "      <td>0.175939</td>\n",
       "      <td>0.247347</td>\n",
       "    </tr>\n",
       "    <tr>\n",
       "      <th>Q75</th>\n",
       "      <td>3168.0</td>\n",
       "      <td>0.224765</td>\n",
       "      <td>0.023639</td>\n",
       "      <td>0.042946</td>\n",
       "      <td>0.208747</td>\n",
       "      <td>0.225684</td>\n",
       "      <td>0.243660</td>\n",
       "      <td>0.273469</td>\n",
       "    </tr>\n",
       "    <tr>\n",
       "      <th>IQR</th>\n",
       "      <td>3168.0</td>\n",
       "      <td>0.084309</td>\n",
       "      <td>0.042783</td>\n",
       "      <td>0.014558</td>\n",
       "      <td>0.042560</td>\n",
       "      <td>0.094280</td>\n",
       "      <td>0.114175</td>\n",
       "      <td>0.252225</td>\n",
       "    </tr>\n",
       "    <tr>\n",
       "      <th>skew</th>\n",
       "      <td>3168.0</td>\n",
       "      <td>3.140168</td>\n",
       "      <td>4.240529</td>\n",
       "      <td>0.141735</td>\n",
       "      <td>1.649569</td>\n",
       "      <td>2.197101</td>\n",
       "      <td>2.931694</td>\n",
       "      <td>34.725453</td>\n",
       "    </tr>\n",
       "    <tr>\n",
       "      <th>kurt</th>\n",
       "      <td>3168.0</td>\n",
       "      <td>36.568461</td>\n",
       "      <td>134.928661</td>\n",
       "      <td>2.068455</td>\n",
       "      <td>5.669547</td>\n",
       "      <td>8.318463</td>\n",
       "      <td>13.648905</td>\n",
       "      <td>1309.612887</td>\n",
       "    </tr>\n",
       "    <tr>\n",
       "      <th>sp.ent</th>\n",
       "      <td>3168.0</td>\n",
       "      <td>0.895127</td>\n",
       "      <td>0.044980</td>\n",
       "      <td>0.738651</td>\n",
       "      <td>0.861811</td>\n",
       "      <td>0.901767</td>\n",
       "      <td>0.928713</td>\n",
       "      <td>0.981997</td>\n",
       "    </tr>\n",
       "    <tr>\n",
       "      <th>sfm</th>\n",
       "      <td>3168.0</td>\n",
       "      <td>0.408216</td>\n",
       "      <td>0.177521</td>\n",
       "      <td>0.036876</td>\n",
       "      <td>0.258041</td>\n",
       "      <td>0.396335</td>\n",
       "      <td>0.533676</td>\n",
       "      <td>0.842936</td>\n",
       "    </tr>\n",
       "    <tr>\n",
       "      <th>mode</th>\n",
       "      <td>3168.0</td>\n",
       "      <td>0.165282</td>\n",
       "      <td>0.077203</td>\n",
       "      <td>0.000000</td>\n",
       "      <td>0.118016</td>\n",
       "      <td>0.186599</td>\n",
       "      <td>0.221104</td>\n",
       "      <td>0.280000</td>\n",
       "    </tr>\n",
       "    <tr>\n",
       "      <th>centroid</th>\n",
       "      <td>3168.0</td>\n",
       "      <td>0.180907</td>\n",
       "      <td>0.029918</td>\n",
       "      <td>0.039363</td>\n",
       "      <td>0.163662</td>\n",
       "      <td>0.184838</td>\n",
       "      <td>0.199146</td>\n",
       "      <td>0.251124</td>\n",
       "    </tr>\n",
       "    <tr>\n",
       "      <th>meanfun</th>\n",
       "      <td>3168.0</td>\n",
       "      <td>0.142807</td>\n",
       "      <td>0.032304</td>\n",
       "      <td>0.055565</td>\n",
       "      <td>0.116998</td>\n",
       "      <td>0.140519</td>\n",
       "      <td>0.169581</td>\n",
       "      <td>0.237636</td>\n",
       "    </tr>\n",
       "    <tr>\n",
       "      <th>minfun</th>\n",
       "      <td>3168.0</td>\n",
       "      <td>0.036802</td>\n",
       "      <td>0.019220</td>\n",
       "      <td>0.009775</td>\n",
       "      <td>0.018223</td>\n",
       "      <td>0.046110</td>\n",
       "      <td>0.047904</td>\n",
       "      <td>0.204082</td>\n",
       "    </tr>\n",
       "    <tr>\n",
       "      <th>maxfun</th>\n",
       "      <td>3168.0</td>\n",
       "      <td>0.258842</td>\n",
       "      <td>0.030077</td>\n",
       "      <td>0.103093</td>\n",
       "      <td>0.253968</td>\n",
       "      <td>0.271186</td>\n",
       "      <td>0.277457</td>\n",
       "      <td>0.279114</td>\n",
       "    </tr>\n",
       "    <tr>\n",
       "      <th>meandom</th>\n",
       "      <td>3168.0</td>\n",
       "      <td>0.829211</td>\n",
       "      <td>0.525205</td>\n",
       "      <td>0.007812</td>\n",
       "      <td>0.419828</td>\n",
       "      <td>0.765795</td>\n",
       "      <td>1.177166</td>\n",
       "      <td>2.957682</td>\n",
       "    </tr>\n",
       "    <tr>\n",
       "      <th>mindom</th>\n",
       "      <td>3168.0</td>\n",
       "      <td>0.052647</td>\n",
       "      <td>0.063299</td>\n",
       "      <td>0.004883</td>\n",
       "      <td>0.007812</td>\n",
       "      <td>0.023438</td>\n",
       "      <td>0.070312</td>\n",
       "      <td>0.458984</td>\n",
       "    </tr>\n",
       "    <tr>\n",
       "      <th>maxdom</th>\n",
       "      <td>3168.0</td>\n",
       "      <td>5.047277</td>\n",
       "      <td>3.521157</td>\n",
       "      <td>0.007812</td>\n",
       "      <td>2.070312</td>\n",
       "      <td>4.992188</td>\n",
       "      <td>7.007812</td>\n",
       "      <td>21.867188</td>\n",
       "    </tr>\n",
       "    <tr>\n",
       "      <th>dfrange</th>\n",
       "      <td>3168.0</td>\n",
       "      <td>4.994630</td>\n",
       "      <td>3.520039</td>\n",
       "      <td>0.000000</td>\n",
       "      <td>2.044922</td>\n",
       "      <td>4.945312</td>\n",
       "      <td>6.992188</td>\n",
       "      <td>21.843750</td>\n",
       "    </tr>\n",
       "    <tr>\n",
       "      <th>modindx</th>\n",
       "      <td>3168.0</td>\n",
       "      <td>0.173752</td>\n",
       "      <td>0.119454</td>\n",
       "      <td>0.000000</td>\n",
       "      <td>0.099766</td>\n",
       "      <td>0.139357</td>\n",
       "      <td>0.209183</td>\n",
       "      <td>0.932374</td>\n",
       "    </tr>\n",
       "  </tbody>\n",
       "</table>\n",
       "</div>"
      ],
      "text/plain": [
       "           count       mean         std       min       25%       50%  \\\n",
       "meanfreq  3168.0   0.180907    0.029918  0.039363  0.163662  0.184838   \n",
       "sd        3168.0   0.057126    0.016652  0.018363  0.041954  0.059155   \n",
       "median    3168.0   0.185621    0.036360  0.010975  0.169593  0.190032   \n",
       "Q25       3168.0   0.140456    0.048680  0.000229  0.111087  0.140286   \n",
       "Q75       3168.0   0.224765    0.023639  0.042946  0.208747  0.225684   \n",
       "IQR       3168.0   0.084309    0.042783  0.014558  0.042560  0.094280   \n",
       "skew      3168.0   3.140168    4.240529  0.141735  1.649569  2.197101   \n",
       "kurt      3168.0  36.568461  134.928661  2.068455  5.669547  8.318463   \n",
       "sp.ent    3168.0   0.895127    0.044980  0.738651  0.861811  0.901767   \n",
       "sfm       3168.0   0.408216    0.177521  0.036876  0.258041  0.396335   \n",
       "mode      3168.0   0.165282    0.077203  0.000000  0.118016  0.186599   \n",
       "centroid  3168.0   0.180907    0.029918  0.039363  0.163662  0.184838   \n",
       "meanfun   3168.0   0.142807    0.032304  0.055565  0.116998  0.140519   \n",
       "minfun    3168.0   0.036802    0.019220  0.009775  0.018223  0.046110   \n",
       "maxfun    3168.0   0.258842    0.030077  0.103093  0.253968  0.271186   \n",
       "meandom   3168.0   0.829211    0.525205  0.007812  0.419828  0.765795   \n",
       "mindom    3168.0   0.052647    0.063299  0.004883  0.007812  0.023438   \n",
       "maxdom    3168.0   5.047277    3.521157  0.007812  2.070312  4.992188   \n",
       "dfrange   3168.0   4.994630    3.520039  0.000000  2.044922  4.945312   \n",
       "modindx   3168.0   0.173752    0.119454  0.000000  0.099766  0.139357   \n",
       "\n",
       "                75%          max  \n",
       "meanfreq   0.199146     0.251124  \n",
       "sd         0.067020     0.115273  \n",
       "median     0.210618     0.261224  \n",
       "Q25        0.175939     0.247347  \n",
       "Q75        0.243660     0.273469  \n",
       "IQR        0.114175     0.252225  \n",
       "skew       2.931694    34.725453  \n",
       "kurt      13.648905  1309.612887  \n",
       "sp.ent     0.928713     0.981997  \n",
       "sfm        0.533676     0.842936  \n",
       "mode       0.221104     0.280000  \n",
       "centroid   0.199146     0.251124  \n",
       "meanfun    0.169581     0.237636  \n",
       "minfun     0.047904     0.204082  \n",
       "maxfun     0.277457     0.279114  \n",
       "meandom    1.177166     2.957682  \n",
       "mindom     0.070312     0.458984  \n",
       "maxdom     7.007812    21.867188  \n",
       "dfrange    6.992188    21.843750  \n",
       "modindx    0.209183     0.932374  "
      ]
     },
     "execution_count": 4,
     "metadata": {},
     "output_type": "execute_result"
    }
   ],
   "source": [
    "#the mean value and std are not that different in each column\n",
    "#we will not preprocess for the sake of simplisty\n",
    "data.describe().T"
   ]
  },
  {
   "cell_type": "code",
   "execution_count": 5,
   "metadata": {},
   "outputs": [],
   "source": [
    "from sklearn.preprocessing import LabelEncoder\n",
    "\n",
    "labelEncoder = LabelEncoder()\n",
    "data['label'] = labelEncoder.fit_transform(data['label'].astype(str))"
   ]
  },
  {
   "cell_type": "code",
   "execution_count": 6,
   "metadata": {},
   "outputs": [
    {
     "data": {
      "text/plain": [
       "2514    0\n",
       "2098    0\n",
       "2384    0\n",
       "2491    0\n",
       "3160    0\n",
       "820     1\n",
       "1321    1\n",
       "1311    1\n",
       "2094    0\n",
       "2504    0\n",
       "Name: label, dtype: int64"
      ]
     },
     "execution_count": 6,
     "metadata": {},
     "output_type": "execute_result"
    }
   ],
   "source": [
    "data['label'].sample(10)"
   ]
  },
  {
   "cell_type": "code",
   "execution_count": 7,
   "metadata": {},
   "outputs": [
    {
     "data": {
      "text/plain": [
       "(2534, 20)"
      ]
     },
     "execution_count": 7,
     "metadata": {},
     "output_type": "execute_result"
    }
   ],
   "source": [
    "from sklearn.model_selection import train_test_split\n",
    "\n",
    "features = data.drop('label',axis=1)\n",
    "target = data['label']\n",
    "\n",
    "X_train, X_test, y_train, y_test = train_test_split(features,target,test_size=0.2)\n",
    "X_train.shape"
   ]
  },
  {
   "cell_type": "code",
   "execution_count": 8,
   "metadata": {},
   "outputs": [
    {
     "data": {
      "text/plain": [
       "LogisticRegression(C=1.0, class_weight=None, dual=False, fit_intercept=True,\n",
       "                   intercept_scaling=1, l1_ratio=None, max_iter=100,\n",
       "                   multi_class='auto', n_jobs=None, penalty='l2',\n",
       "                   random_state=None, solver='liblinear', tol=0.0001, verbose=0,\n",
       "                   warm_start=False)"
      ]
     },
     "execution_count": 8,
     "metadata": {},
     "output_type": "execute_result"
    }
   ],
   "source": [
    "from sklearn.linear_model import LogisticRegression\n",
    "from sklearn.metrics import confusion_matrix\n",
    "#penalty to reduce overfit by keeping the model simple\n",
    "#liblinear is the optmisation \n",
    "logistic_model = LogisticRegression(penalty='l2',solver='liblinear')\n",
    "logistic_model.fit(X_train,y_train)"
   ]
  },
  {
   "cell_type": "code",
   "execution_count": 9,
   "metadata": {},
   "outputs": [],
   "source": [
    "y_pred = logistic_model.predict(X_test)"
   ]
  },
  {
   "cell_type": "code",
   "execution_count": 10,
   "metadata": {},
   "outputs": [
    {
     "data": {
      "text/plain": [
       "array([[275,  43],\n",
       "       [  6, 310]])"
      ]
     },
     "execution_count": 10,
     "metadata": {},
     "output_type": "execute_result"
    }
   ],
   "source": [
    "confusion_matrix = confusion_matrix(y_test,y_pred)\n",
    "confusion_matrix"
   ]
  },
  {
   "cell_type": "code",
   "execution_count": 12,
   "metadata": {},
   "outputs": [
    {
     "name": "stdout",
     "output_type": "stream",
     "text": [
      "Training score  0.9056827150749802\n"
     ]
    }
   ],
   "source": [
    "print(\"Training score \",logistic_model.score(X_train,y_train))"
   ]
  },
  {
   "cell_type": "code",
   "execution_count": 14,
   "metadata": {},
   "outputs": [
    {
     "name": "stdout",
     "output_type": "stream",
     "text": [
      "Accuracy :  0.9227129337539433\n",
      "Precision Score :  0.8781869688385269\n",
      "Recall Score :  0.9810126582278481\n"
     ]
    }
   ],
   "source": [
    "from sklearn.metrics import accuracy_score,precision_score,recall_score\n",
    "\n",
    "acc = accuracy_score(y_test,y_pred)\n",
    "pre = precision_score(y_test,y_pred)\n",
    "recall = recall_score(y_test,y_pred)\n",
    "print('Accuracy : ',acc)\n",
    "print('Precision Score : ',pre)\n",
    "print('Recall Score : ',recall)"
   ]
  },
  {
   "cell_type": "code",
   "execution_count": 15,
   "metadata": {},
   "outputs": [
    {
     "data": {
      "text/plain": [
       "Index(['meanfreq', 'sd', 'median', 'Q25', 'Q75', 'IQR', 'skew', 'kurt',\n",
       "       'sp.ent', 'sfm', 'mode', 'centroid', 'meanfun', 'minfun', 'maxfun',\n",
       "       'meandom', 'mindom', 'maxdom', 'dfrange', 'modindx'],\n",
       "      dtype='object')"
      ]
     },
     "execution_count": 15,
     "metadata": {},
     "output_type": "execute_result"
    }
   ],
   "source": [
    "from yellowbrick.target import FeatureCorrelation\n",
    "\n",
    "features_columns = features.columns\n",
    "features_columns"
   ]
  },
  {
   "cell_type": "code",
   "execution_count": 16,
   "metadata": {},
   "outputs": [
    {
     "name": "stderr",
     "output_type": "stream",
     "text": [
      "/home/abdulkader/anaconda3/lib/python3.7/site-packages/sklearn/base.py:197: FutureWarning: From version 0.24, get_params will raise an AttributeError if a parameter cannot be retrieved as an instance attribute. Previously it would return None.\n",
      "  FutureWarning)\n"
     ]
    },
    {
     "data": {
      "image/png": "[encoded data removed]",
      "text/plain": [
       "<Figure size 576x396 with 1 Axes>"
      ]
     },
     "metadata": {},
     "output_type": "display_data"
    },
    {
     "data": {
      "text/plain": [
       "<matplotlib.axes._subplots.AxesSubplot at 0x7fcfc572a3d0>"
      ]
     },
     "execution_count": 16,
     "metadata": {},
     "output_type": "execute_result"
    }
   ],
   "source": [
    "visualizer = FeatureCorrelation(labels = features_columns)\n",
    "visualizer.fit(features,target)\n",
    "visualizer.poof()"
   ]
  },
  {
   "cell_type": "code",
   "execution_count": 17,
   "metadata": {},
   "outputs": [],
   "source": [
    "from sklearn.feature_selection import chi2, f_classif, mutual_info_classif\n",
    "from sklearn.feature_selection import SelectKBest"
   ]
  },
  {
   "cell_type": "code",
   "execution_count": 18,
   "metadata": {},
   "outputs": [],
   "source": [
    "select_univariate = SelectKBest(chi2,k=4).fit(features,target)"
   ]
  },
  {
   "cell_type": "code",
   "execution_count": 19,
   "metadata": {},
   "outputs": [
    {
     "data": {
      "text/plain": [
       "array([False, False, False, False, False, False, False,  True, False,\n",
       "       False, False, False, False, False, False,  True, False,  True,\n",
       "        True, False])"
      ]
     },
     "execution_count": 19,
     "metadata": {},
     "output_type": "execute_result"
    }
   ],
   "source": [
    "features_mask = select_univariate.get_support()\n",
    "features_mask"
   ]
  },
  {
   "cell_type": "code",
   "execution_count": 23,
   "metadata": {},
   "outputs": [
    {
     "data": {
      "text/plain": [
       "Index(['kurt', 'meandom', 'maxdom', 'dfrange'], dtype='object')"
      ]
     },
     "execution_count": 23,
     "metadata": {},
     "output_type": "execute_result"
    }
   ],
   "source": [
    "features_columns = features.columns[features_mask]\n",
    "features_columns"
   ]
  },
  {
   "cell_type": "code",
   "execution_count": null,
   "metadata": {},
   "outputs": [],
   "source": []
  },
  {
   "cell_type": "code",
   "execution_count": null,
   "metadata": {},
   "outputs": [],
   "source": []
  }
 ],
 "metadata": {
  "kernelspec": {
   "display_name": "Python 3",
   "language": "python",
   "name": "python3"
  },
  "language_info": {
   "codemirror_mode": {
    "name": "ipython",
    "version": 3
   },
   "file_extension": ".py",
   "mimetype": "text/x-python",
   "name": "python",
   "nbconvert_exporter": "python",
   "pygments_lexer": "ipython3",
   "version": "3.7.6"
  }
 },
 "nbformat": 4,
 "nbformat_minor": 4
}
