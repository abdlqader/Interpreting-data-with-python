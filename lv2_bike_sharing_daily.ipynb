{
 "cells": [
  {
   "cell_type": "code",
   "execution_count": 1,
   "metadata": {},
   "outputs": [
    {
     "name": "stdout",
     "output_type": "stream",
     "text": [
      "Requirement already satisfied: scipy in /home/abdulkader/anaconda3/lib/python3.7/site-packages (1.4.1)\n",
      "Requirement already satisfied: numpy>=1.13.3 in /home/abdulkader/anaconda3/lib/python3.7/site-packages (from scipy) (1.18.1)\n"
     ]
    }
   ],
   "source": [
    "!pip install scipy"
   ]
  },
  {
   "cell_type": "code",
   "execution_count": 5,
   "metadata": {},
   "outputs": [],
   "source": [
    "import matplotlib.pyplot as plt\n",
    "import pandas as pd\n",
    "import numpy as np\n",
    "from scipy.stats import pearsonr, spearmanr"
   ]
  },
  {
   "cell_type": "code",
   "execution_count": 3,
   "metadata": {},
   "outputs": [
    {
     "data": {
      "text/html": [
       "<div>\n",
       "<style scoped>\n",
       "    .dataframe tbody tr th:only-of-type {\n",
       "        vertical-align: middle;\n",
       "    }\n",
       "\n",
       "    .dataframe tbody tr th {\n",
       "        vertical-align: top;\n",
       "    }\n",
       "\n",
       "    .dataframe thead th {\n",
       "        text-align: right;\n",
       "    }\n",
       "</style>\n",
       "<table border=\"1\" class=\"dataframe\">\n",
       "  <thead>\n",
       "    <tr style=\"text-align: right;\">\n",
       "      <th></th>\n",
       "      <th>instant</th>\n",
       "      <th>dteday</th>\n",
       "      <th>season</th>\n",
       "      <th>yr</th>\n",
       "      <th>mnth</th>\n",
       "      <th>holiday</th>\n",
       "      <th>weekday</th>\n",
       "      <th>workingday</th>\n",
       "      <th>weathersit</th>\n",
       "      <th>temp</th>\n",
       "      <th>atemp</th>\n",
       "      <th>hum</th>\n",
       "      <th>windspeed</th>\n",
       "      <th>casual</th>\n",
       "      <th>registered</th>\n",
       "      <th>cnt</th>\n",
       "    </tr>\n",
       "  </thead>\n",
       "  <tbody>\n",
       "    <tr>\n",
       "      <th>0</th>\n",
       "      <td>1</td>\n",
       "      <td>2011-01-01</td>\n",
       "      <td>1</td>\n",
       "      <td>0</td>\n",
       "      <td>1</td>\n",
       "      <td>0</td>\n",
       "      <td>6</td>\n",
       "      <td>0</td>\n",
       "      <td>2</td>\n",
       "      <td>0.344167</td>\n",
       "      <td>0.363625</td>\n",
       "      <td>0.805833</td>\n",
       "      <td>0.160446</td>\n",
       "      <td>331</td>\n",
       "      <td>654</td>\n",
       "      <td>985</td>\n",
       "    </tr>\n",
       "    <tr>\n",
       "      <th>1</th>\n",
       "      <td>2</td>\n",
       "      <td>2011-01-02</td>\n",
       "      <td>1</td>\n",
       "      <td>0</td>\n",
       "      <td>1</td>\n",
       "      <td>0</td>\n",
       "      <td>0</td>\n",
       "      <td>0</td>\n",
       "      <td>2</td>\n",
       "      <td>0.363478</td>\n",
       "      <td>0.353739</td>\n",
       "      <td>0.696087</td>\n",
       "      <td>0.248539</td>\n",
       "      <td>131</td>\n",
       "      <td>670</td>\n",
       "      <td>801</td>\n",
       "    </tr>\n",
       "    <tr>\n",
       "      <th>2</th>\n",
       "      <td>3</td>\n",
       "      <td>2011-01-03</td>\n",
       "      <td>1</td>\n",
       "      <td>0</td>\n",
       "      <td>1</td>\n",
       "      <td>0</td>\n",
       "      <td>1</td>\n",
       "      <td>1</td>\n",
       "      <td>1</td>\n",
       "      <td>0.196364</td>\n",
       "      <td>0.189405</td>\n",
       "      <td>0.437273</td>\n",
       "      <td>0.248309</td>\n",
       "      <td>120</td>\n",
       "      <td>1229</td>\n",
       "      <td>1349</td>\n",
       "    </tr>\n",
       "    <tr>\n",
       "      <th>3</th>\n",
       "      <td>4</td>\n",
       "      <td>2011-01-04</td>\n",
       "      <td>1</td>\n",
       "      <td>0</td>\n",
       "      <td>1</td>\n",
       "      <td>0</td>\n",
       "      <td>2</td>\n",
       "      <td>1</td>\n",
       "      <td>1</td>\n",
       "      <td>0.200000</td>\n",
       "      <td>0.212122</td>\n",
       "      <td>0.590435</td>\n",
       "      <td>0.160296</td>\n",
       "      <td>108</td>\n",
       "      <td>1454</td>\n",
       "      <td>1562</td>\n",
       "    </tr>\n",
       "    <tr>\n",
       "      <th>4</th>\n",
       "      <td>5</td>\n",
       "      <td>2011-01-05</td>\n",
       "      <td>1</td>\n",
       "      <td>0</td>\n",
       "      <td>1</td>\n",
       "      <td>0</td>\n",
       "      <td>3</td>\n",
       "      <td>1</td>\n",
       "      <td>1</td>\n",
       "      <td>0.226957</td>\n",
       "      <td>0.229270</td>\n",
       "      <td>0.436957</td>\n",
       "      <td>0.186900</td>\n",
       "      <td>82</td>\n",
       "      <td>1518</td>\n",
       "      <td>1600</td>\n",
       "    </tr>\n",
       "  </tbody>\n",
       "</table>\n",
       "</div>"
      ],
      "text/plain": [
       "   instant      dteday  season  yr  mnth  holiday  weekday  workingday  \\\n",
       "0        1  2011-01-01       1   0     1        0        6           0   \n",
       "1        2  2011-01-02       1   0     1        0        0           0   \n",
       "2        3  2011-01-03       1   0     1        0        1           1   \n",
       "3        4  2011-01-04       1   0     1        0        2           1   \n",
       "4        5  2011-01-05       1   0     1        0        3           1   \n",
       "\n",
       "   weathersit      temp     atemp       hum  windspeed  casual  registered  \\\n",
       "0           2  0.344167  0.363625  0.805833   0.160446     331         654   \n",
       "1           2  0.363478  0.353739  0.696087   0.248539     131         670   \n",
       "2           1  0.196364  0.189405  0.437273   0.248309     120        1229   \n",
       "3           1  0.200000  0.212122  0.590435   0.160296     108        1454   \n",
       "4           1  0.226957  0.229270  0.436957   0.186900      82        1518   \n",
       "\n",
       "    cnt  \n",
       "0   985  \n",
       "1   801  \n",
       "2  1349  \n",
       "3  1562  \n",
       "4  1600  "
      ]
     },
     "execution_count": 3,
     "metadata": {},
     "output_type": "execute_result"
    }
   ],
   "source": [
    "bike_sharing_df = pd.read_csv('archive/bike_sharing_daily.csv')\n",
    "bike_sharing_df.head()"
   ]
  },
  {
   "cell_type": "code",
   "execution_count": 4,
   "metadata": {},
   "outputs": [
    {
     "data": {
      "text/plain": [
       "0   2011-01-01\n",
       "1   2011-01-02\n",
       "2   2011-01-03\n",
       "3   2011-01-04\n",
       "4   2011-01-05\n",
       "Name: dteday, dtype: datetime64[ns]"
      ]
     },
     "execution_count": 4,
     "metadata": {},
     "output_type": "execute_result"
    }
   ],
   "source": [
    "bike_sharing_df['dteday'] = pd.DatetimeIndex(bike_sharing_df['dteday'])\n",
    "bike_sharing_df['dteday'].head()"
   ]
  },
  {
   "cell_type": "code",
   "execution_count": 6,
   "metadata": {},
   "outputs": [
    {
     "data": {
      "text/plain": [
       "array([[1.        , 0.62749401],\n",
       "       [0.62749401, 1.        ]])"
      ]
     },
     "execution_count": 6,
     "metadata": {},
     "output_type": "execute_result"
    }
   ],
   "source": [
    "np.corrcoef(bike_sharing_df['temp'],\n",
    "           bike_sharing_df['cnt'])"
   ]
  },
  {
   "cell_type": "code",
   "execution_count": 7,
   "metadata": {},
   "outputs": [
    {
     "data": {
      "text/plain": [
       "0.6274940090334918"
      ]
     },
     "execution_count": 7,
     "metadata": {},
     "output_type": "execute_result"
    }
   ],
   "source": [
    "bike_sharing_df['temp'].corr(bike_sharing_df['cnt'])"
   ]
  },
  {
   "cell_type": "code",
   "execution_count": 8,
   "metadata": {},
   "outputs": [
    {
     "data": {
      "text/plain": [
       "(0.627494009033492, 2.8106223975907754e-81)"
      ]
     },
     "execution_count": 8,
     "metadata": {},
     "output_type": "execute_result"
    }
   ],
   "source": [
    "#pandas ans numpy evaluates the linear relationship between two confinuous variables\n",
    "pearsonr(bike_sharing_df['temp'],\n",
    "        bike_sharing_df['cnt'])"
   ]
  },
  {
   "cell_type": "code",
   "execution_count": 9,
   "metadata": {},
   "outputs": [
    {
     "data": {
      "text/plain": [
       "SpearmanrResult(correlation=0.6220344732276183, pvalue=1.674554642260452e-79)"
      ]
     },
     "execution_count": 9,
     "metadata": {},
     "output_type": "execute_result"
    }
   ],
   "source": [
    "#based on the ranks of the variables rather than actual raw values, usually used with ordinal data\n",
    "spearmanr(bike_sharing_df['temp'],\n",
    "         bike_sharing_df['cnt'])"
   ]
  },
  {
   "cell_type": "code",
   "execution_count": 14,
   "metadata": {},
   "outputs": [
    {
     "data": {
      "text/plain": [
       "Text(0.5, 1.0, 'Count of bikes rented per temprature')"
      ]
     },
     "execution_count": 14,
     "metadata": {},
     "output_type": "execute_result"
    },
    {
     "data": {
      "image/png": "[encoded data removed]",
      "text/plain": [
       "<Figure size 864x576 with 1 Axes>"
      ]
     },
     "metadata": {
      "needs_background": "light"
     },
     "output_type": "display_data"
    }
   ],
   "source": [
    "bike_sharing_df.plot.scatter(x='temp',y='cnt',figsize=(12,8))\n",
    "plt.xlabel('temperature')\n",
    "plt.ylabel('Count of bikes rented')\n",
    "plt.title('Count of bikes rented per temprature')"
   ]
  },
  {
   "cell_type": "code",
   "execution_count": 16,
   "metadata": {},
   "outputs": [
    {
     "data": {
      "text/plain": [
       "array([[1.        , 0.30390712],\n",
       "       [0.30390712, 1.        ]])"
      ]
     },
     "execution_count": 16,
     "metadata": {},
     "output_type": "execute_result"
    }
   ],
   "source": [
    "np.corrcoef(bike_sharing_df['workingday'],\n",
    "           bike_sharing_df['registered'])"
   ]
  },
  {
   "cell_type": "code",
   "execution_count": 17,
   "metadata": {},
   "outputs": [
    {
     "data": {
      "text/plain": [
       "(0.30390711704591733, 4.3815710893705565e-17)"
      ]
     },
     "execution_count": 17,
     "metadata": {},
     "output_type": "execute_result"
    }
   ],
   "source": [
    "pearsonr(bike_sharing_df['workingday'],bike_sharing_df['registered'])"
   ]
  },
  {
   "cell_type": "code",
   "execution_count": 31,
   "metadata": {},
   "outputs": [
    {
     "data": {
      "text/plain": [
       "Text(0, 0.5, 'Count of Registered Users')"
      ]
     },
     "execution_count": 31,
     "metadata": {},
     "output_type": "execute_result"
    },
    {
     "data": {
      "image/png": "[encoded data removed]",
      "text/plain": [
       "<Figure size 864x576 with 1 Axes>"
      ]
     },
     "metadata": {
      "needs_background": "light"
     },
     "output_type": "display_data"
    }
   ],
   "source": [
    "ax = plt.subplot()\n",
    "\n",
    "bike_sharing_df.groupby('workingday').max()['registered'].plot(kind='bar',figsize=(12,8),ax=ax,color=('r','c'))\n",
    "\n",
    "plt.title('Registered Users')\n",
    "plt.ylabel('Count of Registered Users')"
   ]
  },
  {
   "cell_type": "code",
   "execution_count": 35,
   "metadata": {},
   "outputs": [
    {
     "data": {
      "text/plain": [
       "Text(0.5, 1.0, 'Casual users')"
      ]
     },
     "execution_count": 35,
     "metadata": {},
     "output_type": "execute_result"
    },
    {
     "data": {
      "image/png": "[encoded data removed]",
      "text/plain": [
       "<Figure size 864x576 with 1 Axes>"
      ]
     },
     "metadata": {
      "needs_background": "light"
     },
     "output_type": "display_data"
    }
   ],
   "source": [
    "bike_sharing_df.groupby('workingday').max()['casual'].plot.bar(x='workingday',y='casual',figsize=(12,8),color=('b','y'))\n",
    "\n",
    "plt.ylabel('count of casual users')\n",
    "plt.title('Casual users')"
   ]
  },
  {
   "cell_type": "code",
   "execution_count": 36,
   "metadata": {},
   "outputs": [
    {
     "data": {
      "text/plain": [
       "SpearmanrResult(correlation=-0.21719701027268842, pvalue=2.9694272867448183e-09)"
      ]
     },
     "execution_count": 36,
     "metadata": {},
     "output_type": "execute_result"
    }
   ],
   "source": [
    "spearmanr(bike_sharing_df['windspeed'],\n",
    "         bike_sharing_df['cnt'])"
   ]
  },
  {
   "cell_type": "code",
   "execution_count": 37,
   "metadata": {},
   "outputs": [
    {
     "data": {
      "text/plain": [
       "array([[ 1.      , -0.234545],\n",
       "       [-0.234545,  1.      ]])"
      ]
     },
     "execution_count": 37,
     "metadata": {},
     "output_type": "execute_result"
    }
   ],
   "source": [
    "np.corrcoef(bike_sharing_df['windspeed'],\n",
    "           bike_sharing_df['cnt'])"
   ]
  },
  {
   "cell_type": "code",
   "execution_count": 39,
   "metadata": {},
   "outputs": [
    {
     "data": {
      "text/plain": [
       "Text(0, 0.5, 'Count of bikes')"
      ]
     },
     "execution_count": 39,
     "metadata": {},
     "output_type": "execute_result"
    },
    {
     "data": {
      "image/png": "[encoded data removed]",
      "text/plain": [
       "<Figure size 864x576 with 1 Axes>"
      ]
     },
     "metadata": {
      "needs_background": "light"
     },
     "output_type": "display_data"
    }
   ],
   "source": [
    "bike_sharing_df.plot(kind='scatter',x='windspeed',y='cnt',figsize=(12,8),color='g')\n",
    "plt.xlabel('windspeed')\n",
    "plt.ylabel('Count of bikes')"
   ]
  },
  {
   "cell_type": "code",
   "execution_count": 40,
   "metadata": {},
   "outputs": [
    {
     "data": {
      "text/html": [
       "<div>\n",
       "<style scoped>\n",
       "    .dataframe tbody tr th:only-of-type {\n",
       "        vertical-align: middle;\n",
       "    }\n",
       "\n",
       "    .dataframe tbody tr th {\n",
       "        vertical-align: top;\n",
       "    }\n",
       "\n",
       "    .dataframe thead th {\n",
       "        text-align: right;\n",
       "    }\n",
       "</style>\n",
       "<table border=\"1\" class=\"dataframe\">\n",
       "  <thead>\n",
       "    <tr style=\"text-align: right;\">\n",
       "      <th></th>\n",
       "      <th>instant</th>\n",
       "      <th>season</th>\n",
       "      <th>yr</th>\n",
       "      <th>mnth</th>\n",
       "      <th>holiday</th>\n",
       "      <th>weekday</th>\n",
       "      <th>workingday</th>\n",
       "      <th>weathersit</th>\n",
       "      <th>temp</th>\n",
       "      <th>atemp</th>\n",
       "      <th>hum</th>\n",
       "      <th>windspeed</th>\n",
       "      <th>casual</th>\n",
       "      <th>registered</th>\n",
       "      <th>cnt</th>\n",
       "    </tr>\n",
       "  </thead>\n",
       "  <tbody>\n",
       "    <tr>\n",
       "      <th>instant</th>\n",
       "      <td>1.000000</td>\n",
       "      <td>0.412224</td>\n",
       "      <td>0.866025</td>\n",
       "      <td>0.496702</td>\n",
       "      <td>0.016145</td>\n",
       "      <td>-0.000016</td>\n",
       "      <td>-0.004337</td>\n",
       "      <td>-0.021477</td>\n",
       "      <td>0.150580</td>\n",
       "      <td>0.152638</td>\n",
       "      <td>0.016375</td>\n",
       "      <td>-0.112620</td>\n",
       "      <td>0.275255</td>\n",
       "      <td>0.659623</td>\n",
       "      <td>0.628830</td>\n",
       "    </tr>\n",
       "    <tr>\n",
       "      <th>season</th>\n",
       "      <td>0.412224</td>\n",
       "      <td>1.000000</td>\n",
       "      <td>-0.001844</td>\n",
       "      <td>0.831440</td>\n",
       "      <td>-0.010537</td>\n",
       "      <td>-0.003080</td>\n",
       "      <td>0.012485</td>\n",
       "      <td>0.019211</td>\n",
       "      <td>0.334315</td>\n",
       "      <td>0.342876</td>\n",
       "      <td>0.205445</td>\n",
       "      <td>-0.229046</td>\n",
       "      <td>0.210399</td>\n",
       "      <td>0.411623</td>\n",
       "      <td>0.406100</td>\n",
       "    </tr>\n",
       "    <tr>\n",
       "      <th>yr</th>\n",
       "      <td>0.866025</td>\n",
       "      <td>-0.001844</td>\n",
       "      <td>1.000000</td>\n",
       "      <td>-0.001792</td>\n",
       "      <td>0.007954</td>\n",
       "      <td>-0.005461</td>\n",
       "      <td>-0.002013</td>\n",
       "      <td>-0.048727</td>\n",
       "      <td>0.047604</td>\n",
       "      <td>0.046106</td>\n",
       "      <td>-0.110651</td>\n",
       "      <td>-0.011817</td>\n",
       "      <td>0.248546</td>\n",
       "      <td>0.594248</td>\n",
       "      <td>0.566710</td>\n",
       "    </tr>\n",
       "    <tr>\n",
       "      <th>mnth</th>\n",
       "      <td>0.496702</td>\n",
       "      <td>0.831440</td>\n",
       "      <td>-0.001792</td>\n",
       "      <td>1.000000</td>\n",
       "      <td>0.019191</td>\n",
       "      <td>0.009509</td>\n",
       "      <td>-0.005901</td>\n",
       "      <td>0.043528</td>\n",
       "      <td>0.220205</td>\n",
       "      <td>0.227459</td>\n",
       "      <td>0.222204</td>\n",
       "      <td>-0.207502</td>\n",
       "      <td>0.123006</td>\n",
       "      <td>0.293488</td>\n",
       "      <td>0.279977</td>\n",
       "    </tr>\n",
       "    <tr>\n",
       "      <th>holiday</th>\n",
       "      <td>0.016145</td>\n",
       "      <td>-0.010537</td>\n",
       "      <td>0.007954</td>\n",
       "      <td>0.019191</td>\n",
       "      <td>1.000000</td>\n",
       "      <td>-0.101960</td>\n",
       "      <td>-0.253023</td>\n",
       "      <td>-0.034627</td>\n",
       "      <td>-0.028556</td>\n",
       "      <td>-0.032507</td>\n",
       "      <td>-0.015937</td>\n",
       "      <td>0.006292</td>\n",
       "      <td>0.054274</td>\n",
       "      <td>-0.108745</td>\n",
       "      <td>-0.068348</td>\n",
       "    </tr>\n",
       "    <tr>\n",
       "      <th>weekday</th>\n",
       "      <td>-0.000016</td>\n",
       "      <td>-0.003080</td>\n",
       "      <td>-0.005461</td>\n",
       "      <td>0.009509</td>\n",
       "      <td>-0.101960</td>\n",
       "      <td>1.000000</td>\n",
       "      <td>0.035790</td>\n",
       "      <td>0.031087</td>\n",
       "      <td>-0.000170</td>\n",
       "      <td>-0.007537</td>\n",
       "      <td>-0.052232</td>\n",
       "      <td>0.014282</td>\n",
       "      <td>0.059923</td>\n",
       "      <td>0.057367</td>\n",
       "      <td>0.067443</td>\n",
       "    </tr>\n",
       "    <tr>\n",
       "      <th>workingday</th>\n",
       "      <td>-0.004337</td>\n",
       "      <td>0.012485</td>\n",
       "      <td>-0.002013</td>\n",
       "      <td>-0.005901</td>\n",
       "      <td>-0.253023</td>\n",
       "      <td>0.035790</td>\n",
       "      <td>1.000000</td>\n",
       "      <td>0.061200</td>\n",
       "      <td>0.052660</td>\n",
       "      <td>0.052182</td>\n",
       "      <td>0.024327</td>\n",
       "      <td>-0.018796</td>\n",
       "      <td>-0.518044</td>\n",
       "      <td>0.303907</td>\n",
       "      <td>0.061156</td>\n",
       "    </tr>\n",
       "    <tr>\n",
       "      <th>weathersit</th>\n",
       "      <td>-0.021477</td>\n",
       "      <td>0.019211</td>\n",
       "      <td>-0.048727</td>\n",
       "      <td>0.043528</td>\n",
       "      <td>-0.034627</td>\n",
       "      <td>0.031087</td>\n",
       "      <td>0.061200</td>\n",
       "      <td>1.000000</td>\n",
       "      <td>-0.120602</td>\n",
       "      <td>-0.121583</td>\n",
       "      <td>0.591045</td>\n",
       "      <td>0.039511</td>\n",
       "      <td>-0.247353</td>\n",
       "      <td>-0.260388</td>\n",
       "      <td>-0.297391</td>\n",
       "    </tr>\n",
       "    <tr>\n",
       "      <th>temp</th>\n",
       "      <td>0.150580</td>\n",
       "      <td>0.334315</td>\n",
       "      <td>0.047604</td>\n",
       "      <td>0.220205</td>\n",
       "      <td>-0.028556</td>\n",
       "      <td>-0.000170</td>\n",
       "      <td>0.052660</td>\n",
       "      <td>-0.120602</td>\n",
       "      <td>1.000000</td>\n",
       "      <td>0.991702</td>\n",
       "      <td>0.126963</td>\n",
       "      <td>-0.157944</td>\n",
       "      <td>0.543285</td>\n",
       "      <td>0.540012</td>\n",
       "      <td>0.627494</td>\n",
       "    </tr>\n",
       "    <tr>\n",
       "      <th>atemp</th>\n",
       "      <td>0.152638</td>\n",
       "      <td>0.342876</td>\n",
       "      <td>0.046106</td>\n",
       "      <td>0.227459</td>\n",
       "      <td>-0.032507</td>\n",
       "      <td>-0.007537</td>\n",
       "      <td>0.052182</td>\n",
       "      <td>-0.121583</td>\n",
       "      <td>0.991702</td>\n",
       "      <td>1.000000</td>\n",
       "      <td>0.139988</td>\n",
       "      <td>-0.183643</td>\n",
       "      <td>0.543864</td>\n",
       "      <td>0.544192</td>\n",
       "      <td>0.631066</td>\n",
       "    </tr>\n",
       "    <tr>\n",
       "      <th>hum</th>\n",
       "      <td>0.016375</td>\n",
       "      <td>0.205445</td>\n",
       "      <td>-0.110651</td>\n",
       "      <td>0.222204</td>\n",
       "      <td>-0.015937</td>\n",
       "      <td>-0.052232</td>\n",
       "      <td>0.024327</td>\n",
       "      <td>0.591045</td>\n",
       "      <td>0.126963</td>\n",
       "      <td>0.139988</td>\n",
       "      <td>1.000000</td>\n",
       "      <td>-0.248489</td>\n",
       "      <td>-0.077008</td>\n",
       "      <td>-0.091089</td>\n",
       "      <td>-0.100659</td>\n",
       "    </tr>\n",
       "    <tr>\n",
       "      <th>windspeed</th>\n",
       "      <td>-0.112620</td>\n",
       "      <td>-0.229046</td>\n",
       "      <td>-0.011817</td>\n",
       "      <td>-0.207502</td>\n",
       "      <td>0.006292</td>\n",
       "      <td>0.014282</td>\n",
       "      <td>-0.018796</td>\n",
       "      <td>0.039511</td>\n",
       "      <td>-0.157944</td>\n",
       "      <td>-0.183643</td>\n",
       "      <td>-0.248489</td>\n",
       "      <td>1.000000</td>\n",
       "      <td>-0.167613</td>\n",
       "      <td>-0.217449</td>\n",
       "      <td>-0.234545</td>\n",
       "    </tr>\n",
       "    <tr>\n",
       "      <th>casual</th>\n",
       "      <td>0.275255</td>\n",
       "      <td>0.210399</td>\n",
       "      <td>0.248546</td>\n",
       "      <td>0.123006</td>\n",
       "      <td>0.054274</td>\n",
       "      <td>0.059923</td>\n",
       "      <td>-0.518044</td>\n",
       "      <td>-0.247353</td>\n",
       "      <td>0.543285</td>\n",
       "      <td>0.543864</td>\n",
       "      <td>-0.077008</td>\n",
       "      <td>-0.167613</td>\n",
       "      <td>1.000000</td>\n",
       "      <td>0.395282</td>\n",
       "      <td>0.672804</td>\n",
       "    </tr>\n",
       "    <tr>\n",
       "      <th>registered</th>\n",
       "      <td>0.659623</td>\n",
       "      <td>0.411623</td>\n",
       "      <td>0.594248</td>\n",
       "      <td>0.293488</td>\n",
       "      <td>-0.108745</td>\n",
       "      <td>0.057367</td>\n",
       "      <td>0.303907</td>\n",
       "      <td>-0.260388</td>\n",
       "      <td>0.540012</td>\n",
       "      <td>0.544192</td>\n",
       "      <td>-0.091089</td>\n",
       "      <td>-0.217449</td>\n",
       "      <td>0.395282</td>\n",
       "      <td>1.000000</td>\n",
       "      <td>0.945517</td>\n",
       "    </tr>\n",
       "    <tr>\n",
       "      <th>cnt</th>\n",
       "      <td>0.628830</td>\n",
       "      <td>0.406100</td>\n",
       "      <td>0.566710</td>\n",
       "      <td>0.279977</td>\n",
       "      <td>-0.068348</td>\n",
       "      <td>0.067443</td>\n",
       "      <td>0.061156</td>\n",
       "      <td>-0.297391</td>\n",
       "      <td>0.627494</td>\n",
       "      <td>0.631066</td>\n",
       "      <td>-0.100659</td>\n",
       "      <td>-0.234545</td>\n",
       "      <td>0.672804</td>\n",
       "      <td>0.945517</td>\n",
       "      <td>1.000000</td>\n",
       "    </tr>\n",
       "  </tbody>\n",
       "</table>\n",
       "</div>"
      ],
      "text/plain": [
       "             instant    season        yr      mnth   holiday   weekday  \\\n",
       "instant     1.000000  0.412224  0.866025  0.496702  0.016145 -0.000016   \n",
       "season      0.412224  1.000000 -0.001844  0.831440 -0.010537 -0.003080   \n",
       "yr          0.866025 -0.001844  1.000000 -0.001792  0.007954 -0.005461   \n",
       "mnth        0.496702  0.831440 -0.001792  1.000000  0.019191  0.009509   \n",
       "holiday     0.016145 -0.010537  0.007954  0.019191  1.000000 -0.101960   \n",
       "weekday    -0.000016 -0.003080 -0.005461  0.009509 -0.101960  1.000000   \n",
       "workingday -0.004337  0.012485 -0.002013 -0.005901 -0.253023  0.035790   \n",
       "weathersit -0.021477  0.019211 -0.048727  0.043528 -0.034627  0.031087   \n",
       "temp        0.150580  0.334315  0.047604  0.220205 -0.028556 -0.000170   \n",
       "atemp       0.152638  0.342876  0.046106  0.227459 -0.032507 -0.007537   \n",
       "hum         0.016375  0.205445 -0.110651  0.222204 -0.015937 -0.052232   \n",
       "windspeed  -0.112620 -0.229046 -0.011817 -0.207502  0.006292  0.014282   \n",
       "casual      0.275255  0.210399  0.248546  0.123006  0.054274  0.059923   \n",
       "registered  0.659623  0.411623  0.594248  0.293488 -0.108745  0.057367   \n",
       "cnt         0.628830  0.406100  0.566710  0.279977 -0.068348  0.067443   \n",
       "\n",
       "            workingday  weathersit      temp     atemp       hum  windspeed  \\\n",
       "instant      -0.004337   -0.021477  0.150580  0.152638  0.016375  -0.112620   \n",
       "season        0.012485    0.019211  0.334315  0.342876  0.205445  -0.229046   \n",
       "yr           -0.002013   -0.048727  0.047604  0.046106 -0.110651  -0.011817   \n",
       "mnth         -0.005901    0.043528  0.220205  0.227459  0.222204  -0.207502   \n",
       "holiday      -0.253023   -0.034627 -0.028556 -0.032507 -0.015937   0.006292   \n",
       "weekday       0.035790    0.031087 -0.000170 -0.007537 -0.052232   0.014282   \n",
       "workingday    1.000000    0.061200  0.052660  0.052182  0.024327  -0.018796   \n",
       "weathersit    0.061200    1.000000 -0.120602 -0.121583  0.591045   0.039511   \n",
       "temp          0.052660   -0.120602  1.000000  0.991702  0.126963  -0.157944   \n",
       "atemp         0.052182   -0.121583  0.991702  1.000000  0.139988  -0.183643   \n",
       "hum           0.024327    0.591045  0.126963  0.139988  1.000000  -0.248489   \n",
       "windspeed    -0.018796    0.039511 -0.157944 -0.183643 -0.248489   1.000000   \n",
       "casual       -0.518044   -0.247353  0.543285  0.543864 -0.077008  -0.167613   \n",
       "registered    0.303907   -0.260388  0.540012  0.544192 -0.091089  -0.217449   \n",
       "cnt           0.061156   -0.297391  0.627494  0.631066 -0.100659  -0.234545   \n",
       "\n",
       "              casual  registered       cnt  \n",
       "instant     0.275255    0.659623  0.628830  \n",
       "season      0.210399    0.411623  0.406100  \n",
       "yr          0.248546    0.594248  0.566710  \n",
       "mnth        0.123006    0.293488  0.279977  \n",
       "holiday     0.054274   -0.108745 -0.068348  \n",
       "weekday     0.059923    0.057367  0.067443  \n",
       "workingday -0.518044    0.303907  0.061156  \n",
       "weathersit -0.247353   -0.260388 -0.297391  \n",
       "temp        0.543285    0.540012  0.627494  \n",
       "atemp       0.543864    0.544192  0.631066  \n",
       "hum        -0.077008   -0.091089 -0.100659  \n",
       "windspeed  -0.167613   -0.217449 -0.234545  \n",
       "casual      1.000000    0.395282  0.672804  \n",
       "registered  0.395282    1.000000  0.945517  \n",
       "cnt         0.672804    0.945517  1.000000  "
      ]
     },
     "execution_count": 40,
     "metadata": {},
     "output_type": "execute_result"
    }
   ],
   "source": [
    "bike_sharing_df.corr()"
   ]
  },
  {
   "cell_type": "code",
   "execution_count": 52,
   "metadata": {},
   "outputs": [
    {
     "data": {
      "text/plain": [
       "Text(0.5, 1.2, 'Correlation')"
      ]
     },
     "execution_count": 52,
     "metadata": {},
     "output_type": "execute_result"
    },
    {
     "data": {
      "image/png": "[encoded data removed]",
      "text/plain": [
       "<Figure size 864x576 with 2 Axes>"
      ]
     },
     "metadata": {
      "needs_background": "light"
     },
     "output_type": "display_data"
    }
   ],
   "source": [
    "plt.figure(figsize=(12,8))\n",
    "\n",
    "plt.matshow(bike_sharing_df.corr(),fignum=False,aspect='equal')\n",
    "\n",
    "columns = len(bike_sharing_df.columns)\n",
    "\n",
    "plt.xticks(range(columns),bike_sharing_df.columns)\n",
    "plt.yticks(range(columns),bike_sharing_df.columns)\n",
    "\n",
    "plt.colorbar()\n",
    "plt.xticks(rotation=90)\n",
    "plt.title('Correlation',y=1.2)"
   ]
  },
  {
   "cell_type": "code",
   "execution_count": 53,
   "metadata": {},
   "outputs": [
    {
     "name": "stdout",
     "output_type": "stream",
     "text": [
      "Collecting yellowbrick\n",
      "  Downloading yellowbrick-1.2.1-py3-none-any.whl (269 kB)\n",
      "\u001b[K     |████████████████████████████████| 269 kB 806 kB/s eta 0:00:01\n",
      "\u001b[?25hRequirement already satisfied: scikit-learn<0.24,>=0.20 in /home/abdulkader/anaconda3/lib/python3.7/site-packages (from yellowbrick) (0.22.1)\n",
      "Requirement already satisfied: scipy<1.6,>=1.0.0 in /home/abdulkader/anaconda3/lib/python3.7/site-packages (from yellowbrick) (1.4.1)\n",
      "Requirement already satisfied: numpy>=1.13.0 in /home/abdulkader/anaconda3/lib/python3.7/site-packages (from yellowbrick) (1.18.1)\n",
      "Requirement already satisfied: matplotlib!=3.0.0,>=2.0.2 in /home/abdulkader/anaconda3/lib/python3.7/site-packages (from yellowbrick) (3.1.3)\n",
      "Requirement already satisfied: cycler>=0.10.0 in /home/abdulkader/anaconda3/lib/python3.7/site-packages (from yellowbrick) (0.10.0)\n",
      "Requirement already satisfied: joblib>=0.11 in /home/abdulkader/anaconda3/lib/python3.7/site-packages (from scikit-learn<0.24,>=0.20->yellowbrick) (0.14.1)\n",
      "Requirement already satisfied: kiwisolver>=1.0.1 in /home/abdulkader/anaconda3/lib/python3.7/site-packages (from matplotlib!=3.0.0,>=2.0.2->yellowbrick) (1.1.0)\n",
      "Requirement already satisfied: python-dateutil>=2.1 in /home/abdulkader/anaconda3/lib/python3.7/site-packages (from matplotlib!=3.0.0,>=2.0.2->yellowbrick) (2.8.1)\n",
      "Requirement already satisfied: pyparsing!=2.0.4,!=2.1.2,!=2.1.6,>=2.0.1 in /home/abdulkader/anaconda3/lib/python3.7/site-packages (from matplotlib!=3.0.0,>=2.0.2->yellowbrick) (2.4.6)\n",
      "Requirement already satisfied: six in /home/abdulkader/anaconda3/lib/python3.7/site-packages (from cycler>=0.10.0->yellowbrick) (1.14.0)\n",
      "Requirement already satisfied: setuptools in /home/abdulkader/anaconda3/lib/python3.7/site-packages (from kiwisolver>=1.0.1->matplotlib!=3.0.0,>=2.0.2->yellowbrick) (45.2.0.post20200210)\n",
      "Installing collected packages: yellowbrick\n",
      "Successfully installed yellowbrick-1.2.1\n"
     ]
    }
   ],
   "source": [
    "!pip install yellowbrick"
   ]
  },
  {
   "cell_type": "code",
   "execution_count": 55,
   "metadata": {},
   "outputs": [],
   "source": [
    "target = bike_sharing_df.cnt\n",
    "features = bike_sharing_df.drop(['casual','registered','cnt','dteday'],axis=1)"
   ]
  },
  {
   "cell_type": "code",
   "execution_count": 56,
   "metadata": {},
   "outputs": [
    {
     "data": {
      "text/plain": [
       "['instant',\n",
       " 'season',\n",
       " 'yr',\n",
       " 'mnth',\n",
       " 'holiday',\n",
       " 'weekday',\n",
       " 'workingday',\n",
       " 'weathersit',\n",
       " 'temp',\n",
       " 'atemp',\n",
       " 'hum',\n",
       " 'windspeed']"
      ]
     },
     "execution_count": 56,
     "metadata": {},
     "output_type": "execute_result"
    }
   ],
   "source": [
    "from yellowbrick.target import FeatureCorrelation\n",
    "\n",
    "feature_name = list(features.columns)\n",
    "feature_name"
   ]
  },
  {
   "cell_type": "code",
   "execution_count": 58,
   "metadata": {},
   "outputs": [
    {
     "name": "stderr",
     "output_type": "stream",
     "text": [
      "/home/abdulkader/anaconda3/lib/python3.7/site-packages/sklearn/base.py:197: FutureWarning: From version 0.24, get_params will raise an AttributeError if a parameter cannot be retrieved as an instance attribute. Previously it would return None.\n",
      "  FutureWarning)\n"
     ]
    },
    {
     "data": {
      "image/png": "[encoded data removed]",
      "text/plain": [
       "<Figure size 576x396 with 1 Axes>"
      ]
     },
     "metadata": {},
     "output_type": "display_data"
    },
    {
     "data": {
      "text/plain": [
       "<matplotlib.axes._subplots.AxesSubplot at 0x7f4a5134f650>"
      ]
     },
     "execution_count": 58,
     "metadata": {},
     "output_type": "execute_result"
    }
   ],
   "source": [
    "visualizer  = FeatureCorrelation(labels = feature_name)\n",
    "visualizer.fit(features,target)\n",
    "visualizer.poof()"
   ]
  },
  {
   "cell_type": "code",
   "execution_count": null,
   "metadata": {},
   "outputs": [],
   "source": []
  }
 ],
 "metadata": {
  "kernelspec": {
   "display_name": "Python 3",
   "language": "python",
   "name": "python3"
  },
  "language_info": {
   "codemirror_mode": {
    "name": "ipython",
    "version": 3
   },
   "file_extension": ".py",
   "mimetype": "text/x-python",
   "name": "python",
   "nbconvert_exporter": "python",
   "pygments_lexer": "ipython3",
   "version": "3.7.6"
  }
 },
 "nbformat": 4,
 "nbformat_minor": 4
}
