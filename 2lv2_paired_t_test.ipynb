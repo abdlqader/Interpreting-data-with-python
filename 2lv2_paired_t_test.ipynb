{
 "cells": [
  {
   "cell_type": "code",
   "execution_count": 1,
   "metadata": {},
   "outputs": [],
   "source": [
    "import statsmodels.api as sm\n",
    "import matplotlib.pyplot as plt\n",
    "import pandas as pd\n",
    "import numpy as np\n",
    "from sklearn.preprocessing import scale\n",
    "\n",
    "import researchpy as rp\n",
    "from scipy import stats"
   ]
  },
  {
   "cell_type": "code",
   "execution_count": 2,
   "metadata": {},
   "outputs": [
    {
     "data": {
      "text/html": [
       "<div>\n",
       "<style scoped>\n",
       "    .dataframe tbody tr th:only-of-type {\n",
       "        vertical-align: middle;\n",
       "    }\n",
       "\n",
       "    .dataframe tbody tr th {\n",
       "        vertical-align: top;\n",
       "    }\n",
       "\n",
       "    .dataframe thead th {\n",
       "        text-align: right;\n",
       "    }\n",
       "</style>\n",
       "<table border=\"1\" class=\"dataframe\">\n",
       "  <thead>\n",
       "    <tr style=\"text-align: right;\">\n",
       "      <th></th>\n",
       "      <th>patient</th>\n",
       "      <th>sex</th>\n",
       "      <th>agegrp</th>\n",
       "      <th>bp_before</th>\n",
       "      <th>bp_after</th>\n",
       "    </tr>\n",
       "  </thead>\n",
       "  <tbody>\n",
       "    <tr>\n",
       "      <th>73</th>\n",
       "      <td>74</td>\n",
       "      <td>Female</td>\n",
       "      <td>30-45</td>\n",
       "      <td>167</td>\n",
       "      <td>144</td>\n",
       "    </tr>\n",
       "    <tr>\n",
       "      <th>38</th>\n",
       "      <td>39</td>\n",
       "      <td>Male</td>\n",
       "      <td>46-59</td>\n",
       "      <td>185</td>\n",
       "      <td>140</td>\n",
       "    </tr>\n",
       "    <tr>\n",
       "      <th>6</th>\n",
       "      <td>7</td>\n",
       "      <td>Male</td>\n",
       "      <td>30-45</td>\n",
       "      <td>148</td>\n",
       "      <td>133</td>\n",
       "    </tr>\n",
       "    <tr>\n",
       "      <th>32</th>\n",
       "      <td>33</td>\n",
       "      <td>Male</td>\n",
       "      <td>46-59</td>\n",
       "      <td>167</td>\n",
       "      <td>175</td>\n",
       "    </tr>\n",
       "    <tr>\n",
       "      <th>99</th>\n",
       "      <td>100</td>\n",
       "      <td>Female</td>\n",
       "      <td>46-59</td>\n",
       "      <td>145</td>\n",
       "      <td>143</td>\n",
       "    </tr>\n",
       "    <tr>\n",
       "      <th>91</th>\n",
       "      <td>92</td>\n",
       "      <td>Female</td>\n",
       "      <td>46-59</td>\n",
       "      <td>162</td>\n",
       "      <td>132</td>\n",
       "    </tr>\n",
       "    <tr>\n",
       "      <th>109</th>\n",
       "      <td>110</td>\n",
       "      <td>Female</td>\n",
       "      <td>60+</td>\n",
       "      <td>163</td>\n",
       "      <td>154</td>\n",
       "    </tr>\n",
       "    <tr>\n",
       "      <th>72</th>\n",
       "      <td>73</td>\n",
       "      <td>Female</td>\n",
       "      <td>30-45</td>\n",
       "      <td>141</td>\n",
       "      <td>168</td>\n",
       "    </tr>\n",
       "    <tr>\n",
       "      <th>115</th>\n",
       "      <td>116</td>\n",
       "      <td>Female</td>\n",
       "      <td>60+</td>\n",
       "      <td>152</td>\n",
       "      <td>152</td>\n",
       "    </tr>\n",
       "    <tr>\n",
       "      <th>85</th>\n",
       "      <td>86</td>\n",
       "      <td>Female</td>\n",
       "      <td>46-59</td>\n",
       "      <td>154</td>\n",
       "      <td>146</td>\n",
       "    </tr>\n",
       "  </tbody>\n",
       "</table>\n",
       "</div>"
      ],
      "text/plain": [
       "     patient     sex agegrp  bp_before  bp_after\n",
       "73        74  Female  30-45        167       144\n",
       "38        39    Male  46-59        185       140\n",
       "6          7    Male  30-45        148       133\n",
       "32        33    Male  46-59        167       175\n",
       "99       100  Female  46-59        145       143\n",
       "91        92  Female  46-59        162       132\n",
       "109      110  Female    60+        163       154\n",
       "72        73  Female  30-45        141       168\n",
       "115      116  Female    60+        152       152\n",
       "85        86  Female  46-59        154       146"
      ]
     },
     "execution_count": 2,
     "metadata": {},
     "output_type": "execute_result"
    }
   ],
   "source": [
    "blood_data = pd.read_csv('archive/blood_pressure.csv')\n",
    "blood_data.sample(10)"
   ]
  },
  {
   "cell_type": "code",
   "execution_count": 3,
   "metadata": {},
   "outputs": [
    {
     "data": {
      "text/html": [
       "<div>\n",
       "<style scoped>\n",
       "    .dataframe tbody tr th:only-of-type {\n",
       "        vertical-align: middle;\n",
       "    }\n",
       "\n",
       "    .dataframe tbody tr th {\n",
       "        vertical-align: top;\n",
       "    }\n",
       "\n",
       "    .dataframe thead th {\n",
       "        text-align: right;\n",
       "    }\n",
       "</style>\n",
       "<table border=\"1\" class=\"dataframe\">\n",
       "  <thead>\n",
       "    <tr style=\"text-align: right;\">\n",
       "      <th></th>\n",
       "      <th>count</th>\n",
       "      <th>mean</th>\n",
       "      <th>std</th>\n",
       "      <th>min</th>\n",
       "      <th>25%</th>\n",
       "      <th>50%</th>\n",
       "      <th>75%</th>\n",
       "      <th>max</th>\n",
       "    </tr>\n",
       "  </thead>\n",
       "  <tbody>\n",
       "    <tr>\n",
       "      <th>patient</th>\n",
       "      <td>120.0</td>\n",
       "      <td>60.500000</td>\n",
       "      <td>34.785054</td>\n",
       "      <td>1.0</td>\n",
       "      <td>30.75</td>\n",
       "      <td>60.5</td>\n",
       "      <td>90.25</td>\n",
       "      <td>120.0</td>\n",
       "    </tr>\n",
       "    <tr>\n",
       "      <th>bp_before</th>\n",
       "      <td>120.0</td>\n",
       "      <td>156.450000</td>\n",
       "      <td>11.389845</td>\n",
       "      <td>138.0</td>\n",
       "      <td>147.00</td>\n",
       "      <td>154.5</td>\n",
       "      <td>164.00</td>\n",
       "      <td>185.0</td>\n",
       "    </tr>\n",
       "    <tr>\n",
       "      <th>bp_after</th>\n",
       "      <td>120.0</td>\n",
       "      <td>151.358333</td>\n",
       "      <td>14.177622</td>\n",
       "      <td>125.0</td>\n",
       "      <td>140.75</td>\n",
       "      <td>149.5</td>\n",
       "      <td>161.00</td>\n",
       "      <td>185.0</td>\n",
       "    </tr>\n",
       "  </tbody>\n",
       "</table>\n",
       "</div>"
      ],
      "text/plain": [
       "           count        mean        std    min     25%    50%     75%    max\n",
       "patient    120.0   60.500000  34.785054    1.0   30.75   60.5   90.25  120.0\n",
       "bp_before  120.0  156.450000  11.389845  138.0  147.00  154.5  164.00  185.0\n",
       "bp_after   120.0  151.358333  14.177622  125.0  140.75  149.5  161.00  185.0"
      ]
     },
     "execution_count": 3,
     "metadata": {},
     "output_type": "execute_result"
    }
   ],
   "source": [
    "blood_data.describe().T"
   ]
  },
  {
   "cell_type": "code",
   "execution_count": 4,
   "metadata": {},
   "outputs": [
    {
     "data": {
      "text/plain": [
       "<matplotlib.axes._subplots.AxesSubplot at 0x7fea4f239f90>"
      ]
     },
     "execution_count": 4,
     "metadata": {},
     "output_type": "execute_result"
    },
    {
     "data": {
      "image/png": "[encoded data removed]",
      "text/plain": [
       "<Figure size 864x576 with 1 Axes>"
      ]
     },
     "metadata": {
      "needs_background": "light"
     },
     "output_type": "display_data"
    }
   ],
   "source": [
    "blood_data[['bp_before','bp_after']].boxplot(figsize=(12,8))"
   ]
  },
  {
   "cell_type": "code",
   "execution_count": 5,
   "metadata": {},
   "outputs": [
    {
     "data": {
      "text/plain": [
       "LeveneResult(statistic=4.863729003161597, pvalue=0.028383666362347747)"
      ]
     },
     "execution_count": 5,
     "metadata": {},
     "output_type": "execute_result"
    }
   ],
   "source": [
    "#this indicates difference in variance of both samples\n",
    "#lower than 5% means significance difference in variance\n",
    "#thus we cant use the independent T-test ( for mean )\n",
    "stats.levene(blood_data['bp_after'],blood_data['bp_before'])"
   ]
  },
  {
   "cell_type": "code",
   "execution_count": 6,
   "metadata": {},
   "outputs": [
    {
     "data": {
      "text/plain": [
       "(array([ 3.,  7., 17., 16., 27., 18., 23.,  3.,  4.,  2.]),\n",
       " array([-2.39778752, -1.88107908, -1.36437064, -0.8476622 , -0.33095376,\n",
       "         0.18575468,  0.70246312,  1.21917156,  1.73588   ,  2.25258844,\n",
       "         2.76929689]),\n",
       " <a list of 10 Patch objects>)"
      ]
     },
     "execution_count": 6,
     "metadata": {},
     "output_type": "execute_result"
    },
    {
     "data": {
      "image/png": "[encoded data removed]",
      "text/plain": [
       "<Figure size 432x288 with 1 Axes>"
      ]
     },
     "metadata": {
      "needs_background": "light"
     },
     "output_type": "display_data"
    }
   ],
   "source": [
    "#data seems to be normally distributed\n",
    "blood_data['bp_diff'] = scale(blood_data['bp_after']- blood_data['bp_before'])\n",
    "plt.hist(blood_data['bp_diff'])"
   ]
  },
  {
   "cell_type": "code",
   "execution_count": 7,
   "metadata": {},
   "outputs": [
    {
     "data": {
      "image/png": "[encoded data removed]",
      "text/plain": [
       "<Figure size 864x576 with 1 Axes>"
      ]
     },
     "metadata": {
      "needs_background": "light"
     },
     "output_type": "display_data"
    }
   ],
   "source": [
    "#more prove for normal distribution\n",
    "plt.figure(figsize=(12,8))\n",
    "\n",
    "stats.probplot(blood_data['bp_diff'],plot=plt)\n",
    "plt.show()"
   ]
  },
  {
   "cell_type": "code",
   "execution_count": 8,
   "metadata": {},
   "outputs": [
    {
     "data": {
      "text/plain": [
       "(0.9926842451095581, 0.7841846942901611)"
      ]
     },
     "execution_count": 8,
     "metadata": {},
     "output_type": "execute_result"
    }
   ],
   "source": [
    "#lastly shapiro for normal distribution prove\n",
    "#less than 5% means not normally distributed ( alt hypothesis )\n",
    "stats.shapiro(blood_data['bp_diff'])"
   ]
  },
  {
   "cell_type": "code",
   "execution_count": 9,
   "metadata": {},
   "outputs": [
    {
     "data": {
      "text/plain": [
       "Ttest_relResult(statistic=-3.3371870510833657, pvalue=0.0011297914644840823)"
      ]
     },
     "execution_count": 9,
     "metadata": {},
     "output_type": "execute_result"
    }
   ],
   "source": [
    "#to use ttest on paired samples, observe ttest_rel instead of ttest_int\n",
    "#once again we cant rely on this test since levene test proves difference in variance\n",
    "#since our p value score less than 1% that means there is a significant difference in the mean\n",
    "stats.ttest_rel(blood_data['bp_after'],blood_data['bp_before'])"
   ]
  },
  {
   "cell_type": "code",
   "execution_count": 10,
   "metadata": {},
   "outputs": [
    {
     "data": {
      "text/html": [
       "<div>\n",
       "<style scoped>\n",
       "    .dataframe tbody tr th:only-of-type {\n",
       "        vertical-align: middle;\n",
       "    }\n",
       "\n",
       "    .dataframe tbody tr th {\n",
       "        vertical-align: top;\n",
       "    }\n",
       "\n",
       "    .dataframe thead th {\n",
       "        text-align: right;\n",
       "    }\n",
       "</style>\n",
       "<table border=\"1\" class=\"dataframe\">\n",
       "  <thead>\n",
       "    <tr style=\"text-align: right;\">\n",
       "      <th></th>\n",
       "      <th>Wilcoxon signed-rank test</th>\n",
       "      <th>results</th>\n",
       "    </tr>\n",
       "  </thead>\n",
       "  <tbody>\n",
       "    <tr>\n",
       "      <th>0</th>\n",
       "      <td>Mean for bp_after =</td>\n",
       "      <td>151.358333</td>\n",
       "    </tr>\n",
       "    <tr>\n",
       "      <th>1</th>\n",
       "      <td>Mean for bp_before =</td>\n",
       "      <td>156.450000</td>\n",
       "    </tr>\n",
       "    <tr>\n",
       "      <th>2</th>\n",
       "      <td>T value =</td>\n",
       "      <td>2234.500000</td>\n",
       "    </tr>\n",
       "    <tr>\n",
       "      <th>3</th>\n",
       "      <td>Z value =</td>\n",
       "      <td>-3.191600</td>\n",
       "    </tr>\n",
       "    <tr>\n",
       "      <th>4</th>\n",
       "      <td>Two sided p value =</td>\n",
       "      <td>0.001400</td>\n",
       "    </tr>\n",
       "    <tr>\n",
       "      <th>5</th>\n",
       "      <td>r =</td>\n",
       "      <td>-0.206000</td>\n",
       "    </tr>\n",
       "  </tbody>\n",
       "</table>\n",
       "</div>"
      ],
      "text/plain": [
       "  Wilcoxon signed-rank test      results\n",
       "0      Mean for bp_after =    151.358333\n",
       "1     Mean for bp_before =    156.450000\n",
       "2                T value =   2234.500000\n",
       "3                Z value =     -3.191600\n",
       "4      Two sided p value =      0.001400\n",
       "5                      r =     -0.206000"
      ]
     },
     "execution_count": 10,
     "metadata": {},
     "output_type": "execute_result"
    }
   ],
   "source": [
    "#to overcome the variance difference for paired values use this for T-test\n",
    "#the wilcoxon signed-rank test compare between the medians not the means, which is not really the T-test\n",
    "#the t value and the p value tell us the that the differnce between the medians between the pair values\n",
    "#are significant\n",
    "#which mean the excersie peformed has significant difference on the blood pressures\n",
    "rp.ttest(blood_data['bp_after'],blood_data['bp_before'],\n",
    "        paired = True, equal_variances=False)"
   ]
  },
  {
   "cell_type": "code",
   "execution_count": null,
   "metadata": {},
   "outputs": [],
   "source": []
  }
 ],
 "metadata": {
  "kernelspec": {
   "display_name": "Python 3",
   "language": "python",
   "name": "python3"
  },
  "language_info": {
   "codemirror_mode": {
    "name": "ipython",
    "version": 3
   },
   "file_extension": ".py",
   "mimetype": "text/x-python",
   "name": "python",
   "nbconvert_exporter": "python",
   "pygments_lexer": "ipython3",
   "version": "3.7.6"
  }
 },
 "nbformat": 4,
 "nbformat_minor": 4
}
